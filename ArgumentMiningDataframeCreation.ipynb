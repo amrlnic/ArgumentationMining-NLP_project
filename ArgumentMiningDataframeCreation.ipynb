{
  "nbformat": 4,
  "nbformat_minor": 0,
  "metadata": {
    "colab": {
      "name": "ArgumentMiningDataframeCreation.ipynb",
      "provenance": [],
      "collapsed_sections": [],
      "toc_visible": true
    },
    "kernelspec": {
      "name": "python3",
      "display_name": "Python 3"
    },
    "language_info": {
      "name": "python"
    },
    "accelerator": "GPU"
  },
  "cells": [
    {
      "cell_type": "markdown",
      "source": [
        "# File aggregation into a single pandas dataset"
      ],
      "metadata": {
        "id": "3uLMJd83gE5R"
      }
    },
    {
      "cell_type": "markdown",
      "source": [
        "# Setup"
      ],
      "metadata": {
        "id": "FLHTEcA26FI0"
      }
    },
    {
      "cell_type": "markdown",
      "source": [
        "Files needed to run the notebook:\n",
        "\n",
        "- The zip file *ECJ_FiscalStateAid.zip*; "
      ],
      "metadata": {
        "id": "OgP54KrX6L1C"
      }
    },
    {
      "cell_type": "code",
      "source": [
        "!unzip Dataset[1480].zip"
      ],
      "metadata": {
        "id": "Yaq8gQCQFe8f",
        "colab": {
          "base_uri": "https://localhost:8080/"
        },
        "outputId": "6d0ea433-83a2-4ef8-ad8f-57fd737ddfe9"
      },
      "execution_count": 1,
      "outputs": [
        {
          "output_type": "stream",
          "name": "stdout",
          "text": [
            "unzip:  cannot find or open Dataset[1480].zip, Dataset[1480].zip.zip or Dataset[1480].zip.ZIP.\n",
            "\n",
            "No zipfiles found.\n"
          ]
        }
      ]
    },
    {
      "cell_type": "markdown",
      "source": [
        "Import libraries:"
      ],
      "metadata": {
        "id": "cCR81qpTLAAM"
      }
    },
    {
      "cell_type": "code",
      "execution_count": 2,
      "metadata": {
        "id": "BKnk9lR8K8kI",
        "colab": {
          "base_uri": "https://localhost:8080/"
        },
        "outputId": "5ed9b674-1e23-4f1e-c268-ad815eb5fb5d"
      },
      "outputs": [
        {
          "output_type": "stream",
          "name": "stdout",
          "text": [
            "[nltk_data] Downloading package stopwords to /root/nltk_data...\n",
            "[nltk_data]   Unzipping corpora/stopwords.zip.\n",
            "[nltk_data] Downloading package punkt to /root/nltk_data...\n",
            "[nltk_data]   Unzipping tokenizers/punkt.zip.\n"
          ]
        }
      ],
      "source": [
        "import pandas as pd\n",
        "import seaborn as sns\n",
        "import matplotlib.pyplot as plt\n",
        "import string\n",
        "from string import punctuation\n",
        "import nltk\n",
        "from nltk.corpus import stopwords\n",
        "nltk.download('stopwords')\n",
        "nltk.download('punkt')\n",
        "import tensorflow as tf\n",
        "import os\n",
        "import json\n",
        "import numpy as np\n",
        "from math import isnan"
      ]
    },
    {
      "cell_type": "code",
      "source": [
        "path_reject = \"Dataset/ECJ_FiscalStateAid JSON/Reject\"\n",
        "path_uphold = \"Dataset/ECJ_FiscalStateAid JSON/Uphold\"\n",
        "\n",
        "temp = []\n",
        "\n",
        "for filename in os.listdir(path_reject):\n",
        "   with open(os.path.join(path_reject, filename), 'r') as f: # open in readonly mode\n",
        "      print(filename)\n",
        "      data = json.load(f)\n",
        "\n",
        "\n",
        "\n",
        "      annotations = data[\"annotations\"]\n",
        "\n",
        "      for annotation in annotations:\n",
        "\n",
        "        document = annotation[\"document\"]\n",
        "        name = annotation[\"name\"]\n",
        "        id = annotation[\"_id\"]\n",
        "        sentence = data[\"document\"][\"plainText\"][int(annotation[\"start\"]):int(annotation[\"end\"])]\n",
        "        T= annotation[\"attributes\"].get(\"T\", np.nan)\n",
        "        SUP = annotation[\"attributes\"].get(\"SUP\", np.nan)\n",
        "        SFF = annotation[\"attributes\"].get(\"SFF\", np.nan)\n",
        "        ATT = annotation[\"attributes\"].get(\"ATT\", np.nan)\n",
        "        INH = annotation[\"attributes\"].get(\"INH\", np.nan)\n",
        "        REPH = annotation[\"attributes\"].get(\"REPH\", np.nan)\n",
        "        S = annotation[\"attributes\"].get(\"S\", np.nan)\n",
        "\n",
        "        temp.append([document,\n",
        "                      name,\n",
        "                      id,\n",
        "                      sentence,\n",
        "                      T,\n",
        "                      SUP,\n",
        "                      SFF,\n",
        "                      ATT,\n",
        "                      INH,\n",
        "                      REPH,\n",
        "                      S])\n",
        "        \n",
        "for filename in os.listdir(path_uphold):\n",
        "   with open(os.path.join(path_uphold, filename), 'r') as f: # open in readonly mode\n",
        "      print(filename)\n",
        "      data = json.load(f)\n",
        "\n",
        "\n",
        "\n",
        "      annotations = data[\"annotations\"]\n",
        "\n",
        "      for annotation in annotations:\n",
        "\n",
        "        document = annotation[\"document\"]\n",
        "        name = annotation[\"name\"]\n",
        "        id = annotation[\"_id\"]\n",
        "        sentence = data[\"document\"][\"plainText\"][int(annotation[\"start\"]):int(annotation[\"end\"])]\n",
        "        T= annotation[\"attributes\"].get(\"T\", np.nan)\n",
        "        SUP = annotation[\"attributes\"].get(\"SUP\", np.nan)\n",
        "        SFF = annotation[\"attributes\"].get(\"SFF\", np.nan)\n",
        "        ATT = annotation[\"attributes\"].get(\"ATT\", np.nan)\n",
        "        INH = annotation[\"attributes\"].get(\"INH\", np.nan)\n",
        "        REPH = annotation[\"attributes\"].get(\"REPH\", np.nan)\n",
        "        S = annotation[\"attributes\"].get(\"S\", np.nan)\n",
        "\n",
        "        temp.append([document,\n",
        "                      name,\n",
        "                      id,\n",
        "                      sentence,\n",
        "                      T,\n",
        "                      SUP,\n",
        "                      SFF,\n",
        "                      ATT,\n",
        "                      INH,\n",
        "                      REPH,\n",
        "                      S])\n",
        "\n",
        "df = pd.DataFrame(temp, columns=['Document','Name','Id', 'Sentence', 'Type','Supported_by','Supported_from_failure','Attacked_by', 'Inhibited_by', 'Rephrased_by', 'Argumentation_scheme'])"
      ],
      "metadata": {
        "id": "SdlIppp-LGRh",
        "colab": {
          "base_uri": "https://localhost:8080/",
          "height": 234
        },
        "outputId": "1010ea2a-7caa-4380-a58e-51b919fef10d"
      },
      "execution_count": 3,
      "outputs": [
        {
          "output_type": "error",
          "ename": "FileNotFoundError",
          "evalue": "ignored",
          "traceback": [
            "\u001b[0;31m---------------------------------------------------------------------------\u001b[0m",
            "\u001b[0;31mFileNotFoundError\u001b[0m                         Traceback (most recent call last)",
            "\u001b[0;32m<ipython-input-3-cf6e5880e59a>\u001b[0m in \u001b[0;36m<module>\u001b[0;34m()\u001b[0m\n\u001b[1;32m      4\u001b[0m \u001b[0mtemp\u001b[0m \u001b[0;34m=\u001b[0m \u001b[0;34m[\u001b[0m\u001b[0;34m]\u001b[0m\u001b[0;34m\u001b[0m\u001b[0;34m\u001b[0m\u001b[0m\n\u001b[1;32m      5\u001b[0m \u001b[0;34m\u001b[0m\u001b[0m\n\u001b[0;32m----> 6\u001b[0;31m \u001b[0;32mfor\u001b[0m \u001b[0mfilename\u001b[0m \u001b[0;32min\u001b[0m \u001b[0mos\u001b[0m\u001b[0;34m.\u001b[0m\u001b[0mlistdir\u001b[0m\u001b[0;34m(\u001b[0m\u001b[0mpath_reject\u001b[0m\u001b[0;34m)\u001b[0m\u001b[0;34m:\u001b[0m\u001b[0;34m\u001b[0m\u001b[0;34m\u001b[0m\u001b[0m\n\u001b[0m\u001b[1;32m      7\u001b[0m    \u001b[0;32mwith\u001b[0m \u001b[0mopen\u001b[0m\u001b[0;34m(\u001b[0m\u001b[0mos\u001b[0m\u001b[0;34m.\u001b[0m\u001b[0mpath\u001b[0m\u001b[0;34m.\u001b[0m\u001b[0mjoin\u001b[0m\u001b[0;34m(\u001b[0m\u001b[0mpath_reject\u001b[0m\u001b[0;34m,\u001b[0m \u001b[0mfilename\u001b[0m\u001b[0;34m)\u001b[0m\u001b[0;34m,\u001b[0m \u001b[0;34m'r'\u001b[0m\u001b[0;34m)\u001b[0m \u001b[0;32mas\u001b[0m \u001b[0mf\u001b[0m\u001b[0;34m:\u001b[0m \u001b[0;31m# open in readonly mode\u001b[0m\u001b[0;34m\u001b[0m\u001b[0;34m\u001b[0m\u001b[0m\n\u001b[1;32m      8\u001b[0m       \u001b[0mprint\u001b[0m\u001b[0;34m(\u001b[0m\u001b[0mfilename\u001b[0m\u001b[0;34m)\u001b[0m\u001b[0;34m\u001b[0m\u001b[0;34m\u001b[0m\u001b[0m\n",
            "\u001b[0;31mFileNotFoundError\u001b[0m: [Errno 2] No such file or directory: 'Dataset/ECJ_FiscalStateAid JSON/Reject'"
          ]
        }
      ]
    },
    {
      "cell_type": "markdown",
      "source": [
        "# Analysis and Pre-processing"
      ],
      "metadata": {
        "id": "ulD3MNmj7A04"
      }
    },
    {
      "cell_type": "code",
      "source": [
        "df.head()"
      ],
      "metadata": {
        "id": "gb8OUUWkMVFs",
        "colab": {
          "base_uri": "https://localhost:8080/",
          "height": 424
        },
        "outputId": "babfc0a6-bb7c-47b9-cc8d-63765f7398f6"
      },
      "execution_count": 61,
      "outputs": [
        {
          "output_type": "execute_result",
          "data": {
            "text/plain": [
              "  Document  Name  Id                                           Sentence Type  \\\n",
              "0     2004  prem  A1  Both Italy and Wam contest the admissibility o...    F   \n",
              "1     2004  prem  A2  Italy argues that the Commission’s contention ...    F   \n",
              "2     2004  prem  A3  In that respect, it should be borne in mind th...    L   \n",
              "3     2004  prem  A4  As the Advocate General states in point 20 of ...    F   \n",
              "4     2004  prem  A5  It follows that the Italian Republic’s argumen...    F   \n",
              "\n",
              "  Supported_by Supported_from_failure Attacked_by Inhibited_by Rephrased_by  \\\n",
              "0          NaN                    NaN         NaN          NaN          NaN   \n",
              "1          NaN                    NaN          A5          NaN          NaN   \n",
              "2          NaN                    NaN         NaN          NaN          NaN   \n",
              "3          NaN                    NaN         NaN          NaN          NaN   \n",
              "4     [A3, A4]                    NaN         NaN          NaN          NaN   \n",
              "\n",
              "  Argumentation_scheme  \n",
              "0                  NaN  \n",
              "1                  NaN  \n",
              "2                 Rule  \n",
              "3                  Aut  \n",
              "4                  NaN  "
            ],
            "text/html": [
              "\n",
              "  <div id=\"df-75be6a63-c77a-41a1-bd7c-845e163f4860\">\n",
              "    <div class=\"colab-df-container\">\n",
              "      <div>\n",
              "<style scoped>\n",
              "    .dataframe tbody tr th:only-of-type {\n",
              "        vertical-align: middle;\n",
              "    }\n",
              "\n",
              "    .dataframe tbody tr th {\n",
              "        vertical-align: top;\n",
              "    }\n",
              "\n",
              "    .dataframe thead th {\n",
              "        text-align: right;\n",
              "    }\n",
              "</style>\n",
              "<table border=\"1\" class=\"dataframe\">\n",
              "  <thead>\n",
              "    <tr style=\"text-align: right;\">\n",
              "      <th></th>\n",
              "      <th>Document</th>\n",
              "      <th>Name</th>\n",
              "      <th>Id</th>\n",
              "      <th>Sentence</th>\n",
              "      <th>Type</th>\n",
              "      <th>Supported_by</th>\n",
              "      <th>Supported_from_failure</th>\n",
              "      <th>Attacked_by</th>\n",
              "      <th>Inhibited_by</th>\n",
              "      <th>Rephrased_by</th>\n",
              "      <th>Argumentation_scheme</th>\n",
              "    </tr>\n",
              "  </thead>\n",
              "  <tbody>\n",
              "    <tr>\n",
              "      <th>0</th>\n",
              "      <td>2004</td>\n",
              "      <td>prem</td>\n",
              "      <td>A1</td>\n",
              "      <td>Both Italy and Wam contest the admissibility o...</td>\n",
              "      <td>F</td>\n",
              "      <td>NaN</td>\n",
              "      <td>NaN</td>\n",
              "      <td>NaN</td>\n",
              "      <td>NaN</td>\n",
              "      <td>NaN</td>\n",
              "      <td>NaN</td>\n",
              "    </tr>\n",
              "    <tr>\n",
              "      <th>1</th>\n",
              "      <td>2004</td>\n",
              "      <td>prem</td>\n",
              "      <td>A2</td>\n",
              "      <td>Italy argues that the Commission’s contention ...</td>\n",
              "      <td>F</td>\n",
              "      <td>NaN</td>\n",
              "      <td>NaN</td>\n",
              "      <td>A5</td>\n",
              "      <td>NaN</td>\n",
              "      <td>NaN</td>\n",
              "      <td>NaN</td>\n",
              "    </tr>\n",
              "    <tr>\n",
              "      <th>2</th>\n",
              "      <td>2004</td>\n",
              "      <td>prem</td>\n",
              "      <td>A3</td>\n",
              "      <td>In that respect, it should be borne in mind th...</td>\n",
              "      <td>L</td>\n",
              "      <td>NaN</td>\n",
              "      <td>NaN</td>\n",
              "      <td>NaN</td>\n",
              "      <td>NaN</td>\n",
              "      <td>NaN</td>\n",
              "      <td>Rule</td>\n",
              "    </tr>\n",
              "    <tr>\n",
              "      <th>3</th>\n",
              "      <td>2004</td>\n",
              "      <td>prem</td>\n",
              "      <td>A4</td>\n",
              "      <td>As the Advocate General states in point 20 of ...</td>\n",
              "      <td>F</td>\n",
              "      <td>NaN</td>\n",
              "      <td>NaN</td>\n",
              "      <td>NaN</td>\n",
              "      <td>NaN</td>\n",
              "      <td>NaN</td>\n",
              "      <td>Aut</td>\n",
              "    </tr>\n",
              "    <tr>\n",
              "      <th>4</th>\n",
              "      <td>2004</td>\n",
              "      <td>prem</td>\n",
              "      <td>A5</td>\n",
              "      <td>It follows that the Italian Republic’s argumen...</td>\n",
              "      <td>F</td>\n",
              "      <td>[A3, A4]</td>\n",
              "      <td>NaN</td>\n",
              "      <td>NaN</td>\n",
              "      <td>NaN</td>\n",
              "      <td>NaN</td>\n",
              "      <td>NaN</td>\n",
              "    </tr>\n",
              "  </tbody>\n",
              "</table>\n",
              "</div>\n",
              "      <button class=\"colab-df-convert\" onclick=\"convertToInteractive('df-75be6a63-c77a-41a1-bd7c-845e163f4860')\"\n",
              "              title=\"Convert this dataframe to an interactive table.\"\n",
              "              style=\"display:none;\">\n",
              "        \n",
              "  <svg xmlns=\"http://www.w3.org/2000/svg\" height=\"24px\"viewBox=\"0 0 24 24\"\n",
              "       width=\"24px\">\n",
              "    <path d=\"M0 0h24v24H0V0z\" fill=\"none\"/>\n",
              "    <path d=\"M18.56 5.44l.94 2.06.94-2.06 2.06-.94-2.06-.94-.94-2.06-.94 2.06-2.06.94zm-11 1L8.5 8.5l.94-2.06 2.06-.94-2.06-.94L8.5 2.5l-.94 2.06-2.06.94zm10 10l.94 2.06.94-2.06 2.06-.94-2.06-.94-.94-2.06-.94 2.06-2.06.94z\"/><path d=\"M17.41 7.96l-1.37-1.37c-.4-.4-.92-.59-1.43-.59-.52 0-1.04.2-1.43.59L10.3 9.45l-7.72 7.72c-.78.78-.78 2.05 0 2.83L4 21.41c.39.39.9.59 1.41.59.51 0 1.02-.2 1.41-.59l7.78-7.78 2.81-2.81c.8-.78.8-2.07 0-2.86zM5.41 20L4 18.59l7.72-7.72 1.47 1.35L5.41 20z\"/>\n",
              "  </svg>\n",
              "      </button>\n",
              "      \n",
              "  <style>\n",
              "    .colab-df-container {\n",
              "      display:flex;\n",
              "      flex-wrap:wrap;\n",
              "      gap: 12px;\n",
              "    }\n",
              "\n",
              "    .colab-df-convert {\n",
              "      background-color: #E8F0FE;\n",
              "      border: none;\n",
              "      border-radius: 50%;\n",
              "      cursor: pointer;\n",
              "      display: none;\n",
              "      fill: #1967D2;\n",
              "      height: 32px;\n",
              "      padding: 0 0 0 0;\n",
              "      width: 32px;\n",
              "    }\n",
              "\n",
              "    .colab-df-convert:hover {\n",
              "      background-color: #E2EBFA;\n",
              "      box-shadow: 0px 1px 2px rgba(60, 64, 67, 0.3), 0px 1px 3px 1px rgba(60, 64, 67, 0.15);\n",
              "      fill: #174EA6;\n",
              "    }\n",
              "\n",
              "    [theme=dark] .colab-df-convert {\n",
              "      background-color: #3B4455;\n",
              "      fill: #D2E3FC;\n",
              "    }\n",
              "\n",
              "    [theme=dark] .colab-df-convert:hover {\n",
              "      background-color: #434B5C;\n",
              "      box-shadow: 0px 1px 3px 1px rgba(0, 0, 0, 0.15);\n",
              "      filter: drop-shadow(0px 1px 2px rgba(0, 0, 0, 0.3));\n",
              "      fill: #FFFFFF;\n",
              "    }\n",
              "  </style>\n",
              "\n",
              "      <script>\n",
              "        const buttonEl =\n",
              "          document.querySelector('#df-75be6a63-c77a-41a1-bd7c-845e163f4860 button.colab-df-convert');\n",
              "        buttonEl.style.display =\n",
              "          google.colab.kernel.accessAllowed ? 'block' : 'none';\n",
              "\n",
              "        async function convertToInteractive(key) {\n",
              "          const element = document.querySelector('#df-75be6a63-c77a-41a1-bd7c-845e163f4860');\n",
              "          const dataTable =\n",
              "            await google.colab.kernel.invokeFunction('convertToInteractive',\n",
              "                                                     [key], {});\n",
              "          if (!dataTable) return;\n",
              "\n",
              "          const docLinkHtml = 'Like what you see? Visit the ' +\n",
              "            '<a target=\"_blank\" href=https://colab.research.google.com/notebooks/data_table.ipynb>data table notebook</a>'\n",
              "            + ' to learn more about interactive tables.';\n",
              "          element.innerHTML = '';\n",
              "          dataTable['output_type'] = 'display_data';\n",
              "          await google.colab.output.renderOutput(dataTable, element);\n",
              "          const docLink = document.createElement('div');\n",
              "          docLink.innerHTML = docLinkHtml;\n",
              "          element.appendChild(docLink);\n",
              "        }\n",
              "      </script>\n",
              "    </div>\n",
              "  </div>\n",
              "  "
            ]
          },
          "metadata": {},
          "execution_count": 61
        }
      ]
    },
    {
      "cell_type": "code",
      "source": [
        "def remove_stopwords(text):\n",
        "    stpword = stopwords.words('english')\n",
        "    no_punctuation = [char for char in text if char not in  \n",
        "      string.punctuation]\n",
        "    no_punctuation = ''.join(no_punctuation)\n",
        "    return ' '.join([word for word in no_punctuation.split() if \n",
        "      word.lower() not in stpword])\n",
        "df[\"Sentence\"] = df[\"Sentence\"].apply(remove_stopwords)\n",
        "df[\"Sentence\"] = df[\"Sentence\"].apply(remove_stopwords)"
      ],
      "metadata": {
        "id": "g3L7ZzWhYNa7"
      },
      "execution_count": 62,
      "outputs": []
    },
    {
      "cell_type": "code",
      "source": [
        "df[\"Sentence\"]"
      ],
      "metadata": {
        "colab": {
          "base_uri": "https://localhost:8080/"
        },
        "id": "sUqAc4almXyB",
        "outputId": "c7b8d8c6-3baa-4833-fbbe-05f4c8429318"
      },
      "execution_count": 63,
      "outputs": [
        {
          "output_type": "execute_result",
          "data": {
            "text/plain": [
              "0                  Italy Wam contest admissibility appeal\n",
              "1       Italy argues Commission’s contention judgment ...\n",
              "2       respect borne mind pursuant Article 58 Statute...\n",
              "3       Advocate General states point 20 Opinion Commi...\n",
              "4       follows Italian Republic’s argument appeal bas...\n",
              "                              ...                        \n",
              "1674    must recalled case interpretation national law...\n",
              "1675    Scuola Elementare Maria Montessori claim disto...\n",
              "1676    Scuola Elementare Maria Montessori’s argument ...\n",
              "1677    far Scuola Elementare Maria Montessori additio...\n",
              "1678           follows second ground appeal must rejected\n",
              "Name: Sentence, Length: 1679, dtype: object"
            ]
          },
          "metadata": {},
          "execution_count": 63
        }
      ]
    },
    {
      "cell_type": "code",
      "source": [
        "df['Type'].value_counts(dropna=False)"
      ],
      "metadata": {
        "id": "W2NPhrKUGHhT",
        "colab": {
          "base_uri": "https://localhost:8080/",
          "height": 322
        },
        "outputId": "a75a2b50-e593-4039-a868-daf203115dc0"
      },
      "execution_count": 64,
      "outputs": [
        {
          "output_type": "error",
          "ename": "TypeError",
          "evalue": "ignored",
          "traceback": [
            "\u001b[0;31m---------------------------------------------------------------------------\u001b[0m",
            "\u001b[0;31mTypeError\u001b[0m                                 Traceback (most recent call last)",
            "\u001b[0;32mpandas/_libs/hashtable_class_helper.pxi\u001b[0m in \u001b[0;36mpandas._libs.hashtable.PyObjectHashTable.map_locations\u001b[0;34m()\u001b[0m\n",
            "\u001b[0;31mTypeError\u001b[0m: unhashable type: 'list'"
          ]
        },
        {
          "output_type": "stream",
          "name": "stderr",
          "text": [
            "Exception ignored in: 'pandas._libs.index.IndexEngine._call_map_locations'\n",
            "Traceback (most recent call last):\n",
            "  File \"pandas/_libs/hashtable_class_helper.pxi\", line 5231, in pandas._libs.hashtable.PyObjectHashTable.map_locations\n",
            "TypeError: unhashable type: 'list'\n"
          ]
        },
        {
          "output_type": "execute_result",
          "data": {
            "text/plain": [
              "F         921\n",
              "L         582\n",
              "NaN       110\n",
              "L|F        65\n",
              "[F, L]      1\n",
              "Name: Type, dtype: int64"
            ]
          },
          "metadata": {},
          "execution_count": 64
        }
      ]
    },
    {
      "cell_type": "code",
      "source": [
        "#df = df.dropna(subset=['Type']) # Remove rows with NaN in Type column (the rows with NaN are concs)\n",
        "\n",
        "#df['Type'] = df['Type'].apply(lambda x: 'L|F' if isinstance(x, list) or len(x)>1 else x)\n",
        "df['Type'] = df['Type'].apply(lambda x: 'L|F' if isinstance(x, list) else x)\n",
        "df['Type'] = df['Type'].apply(lambda x: 'F' if x=='f' else x)"
      ],
      "metadata": {
        "id": "RfltP7-dMHcX"
      },
      "execution_count": 65,
      "outputs": []
    },
    {
      "cell_type": "code",
      "source": [
        "df['Type'].value_counts(dropna=False)"
      ],
      "metadata": {
        "id": "MAaqy7OIRuII",
        "colab": {
          "base_uri": "https://localhost:8080/"
        },
        "outputId": "3cf42c63-0580-49c3-b429-eb340b61a462"
      },
      "execution_count": 66,
      "outputs": [
        {
          "output_type": "execute_result",
          "data": {
            "text/plain": [
              "F      921\n",
              "L      582\n",
              "NaN    110\n",
              "L|F     66\n",
              "Name: Type, dtype: int64"
            ]
          },
          "metadata": {},
          "execution_count": 66
        }
      ]
    },
    {
      "cell_type": "code",
      "source": [
        "df['Document'].value_counts(dropna=False)"
      ],
      "metadata": {
        "colab": {
          "base_uri": "https://localhost:8080/"
        },
        "id": "ruQVrlq5mTB5",
        "outputId": "f7c29ce2-ac9d-4448-a43b-3b9a4c4f19d9"
      },
      "execution_count": 67,
      "outputs": [
        {
          "output_type": "execute_result",
          "data": {
            "text/plain": [
              "2028    109\n",
              "2001    106\n",
              "2007     95\n",
              "2011     93\n",
              "2027     91\n",
              "2003     77\n",
              "2000     73\n",
              "2012     71\n",
              "2005     68\n",
              "2022     65\n",
              "2016     61\n",
              "2023     59\n",
              "2015     56\n",
              "2013     50\n",
              "2009     50\n",
              "2019     50\n",
              "2017     50\n",
              "2008     48\n",
              "2010     45\n",
              "2020     44\n",
              "2014     43\n",
              "2021     40\n",
              "2006     40\n",
              "2025     38\n",
              "2018     37\n",
              "2004     37\n",
              "2024     30\n",
              "2026     29\n",
              "2002     24\n",
              "Name: Document, dtype: int64"
            ]
          },
          "metadata": {},
          "execution_count": 67
        }
      ]
    },
    {
      "cell_type": "code",
      "source": [
        "df['Name'].value_counts(dropna=False)"
      ],
      "metadata": {
        "colab": {
          "base_uri": "https://localhost:8080/"
        },
        "id": "Jp89ioQNmfq_",
        "outputId": "1de168f7-0fed-4926-893d-ffa0055150c1"
      },
      "execution_count": 68,
      "outputs": [
        {
          "output_type": "execute_result",
          "data": {
            "text/plain": [
              "prem    1569\n",
              "conc     110\n",
              "Name: Name, dtype: int64"
            ]
          },
          "metadata": {},
          "execution_count": 68
        }
      ]
    },
    {
      "cell_type": "code",
      "source": [
        "df['Name'] = df['Name'].apply(lambda x: 'prem' if x=='perm' else x)"
      ],
      "metadata": {
        "id": "Q3qEinJbmo3L"
      },
      "execution_count": 69,
      "outputs": []
    },
    {
      "cell_type": "code",
      "source": [
        "df['Name'].value_counts(dropna=False)"
      ],
      "metadata": {
        "colab": {
          "base_uri": "https://localhost:8080/"
        },
        "id": "gQkHOAfr51do",
        "outputId": "0a0fd2b7-e056-43c9-b037-17c7412588cc"
      },
      "execution_count": 70,
      "outputs": [
        {
          "output_type": "execute_result",
          "data": {
            "text/plain": [
              "prem    1569\n",
              "conc     110\n",
              "Name: Name, dtype: int64"
            ]
          },
          "metadata": {},
          "execution_count": 70
        }
      ]
    },
    {
      "cell_type": "code",
      "source": [
        "df.head()"
      ],
      "metadata": {
        "id": "Prdb1LAhTO4p",
        "colab": {
          "base_uri": "https://localhost:8080/",
          "height": 493
        },
        "outputId": "d308c5e1-e80c-499a-f159-eef91625d444"
      },
      "execution_count": 71,
      "outputs": [
        {
          "output_type": "execute_result",
          "data": {
            "text/plain": [
              "  Document  Name  Id                                           Sentence Type  \\\n",
              "0     2004  prem  A1             Italy Wam contest admissibility appeal    F   \n",
              "1     2004  prem  A2  Italy argues Commission’s contention judgment ...    F   \n",
              "2     2004  prem  A3  respect borne mind pursuant Article 58 Statute...    L   \n",
              "3     2004  prem  A4  Advocate General states point 20 Opinion Commi...    F   \n",
              "4     2004  prem  A5  follows Italian Republic’s argument appeal bas...    F   \n",
              "\n",
              "  Supported_by Supported_from_failure Attacked_by Inhibited_by Rephrased_by  \\\n",
              "0          NaN                    NaN         NaN          NaN          NaN   \n",
              "1          NaN                    NaN          A5          NaN          NaN   \n",
              "2          NaN                    NaN         NaN          NaN          NaN   \n",
              "3          NaN                    NaN         NaN          NaN          NaN   \n",
              "4     [A3, A4]                    NaN         NaN          NaN          NaN   \n",
              "\n",
              "  Argumentation_scheme  \n",
              "0                  NaN  \n",
              "1                  NaN  \n",
              "2                 Rule  \n",
              "3                  Aut  \n",
              "4                  NaN  "
            ],
            "text/html": [
              "\n",
              "  <div id=\"df-0c4cee10-932c-4611-b055-8e3e4c256b5d\">\n",
              "    <div class=\"colab-df-container\">\n",
              "      <div>\n",
              "<style scoped>\n",
              "    .dataframe tbody tr th:only-of-type {\n",
              "        vertical-align: middle;\n",
              "    }\n",
              "\n",
              "    .dataframe tbody tr th {\n",
              "        vertical-align: top;\n",
              "    }\n",
              "\n",
              "    .dataframe thead th {\n",
              "        text-align: right;\n",
              "    }\n",
              "</style>\n",
              "<table border=\"1\" class=\"dataframe\">\n",
              "  <thead>\n",
              "    <tr style=\"text-align: right;\">\n",
              "      <th></th>\n",
              "      <th>Document</th>\n",
              "      <th>Name</th>\n",
              "      <th>Id</th>\n",
              "      <th>Sentence</th>\n",
              "      <th>Type</th>\n",
              "      <th>Supported_by</th>\n",
              "      <th>Supported_from_failure</th>\n",
              "      <th>Attacked_by</th>\n",
              "      <th>Inhibited_by</th>\n",
              "      <th>Rephrased_by</th>\n",
              "      <th>Argumentation_scheme</th>\n",
              "    </tr>\n",
              "  </thead>\n",
              "  <tbody>\n",
              "    <tr>\n",
              "      <th>0</th>\n",
              "      <td>2004</td>\n",
              "      <td>prem</td>\n",
              "      <td>A1</td>\n",
              "      <td>Italy Wam contest admissibility appeal</td>\n",
              "      <td>F</td>\n",
              "      <td>NaN</td>\n",
              "      <td>NaN</td>\n",
              "      <td>NaN</td>\n",
              "      <td>NaN</td>\n",
              "      <td>NaN</td>\n",
              "      <td>NaN</td>\n",
              "    </tr>\n",
              "    <tr>\n",
              "      <th>1</th>\n",
              "      <td>2004</td>\n",
              "      <td>prem</td>\n",
              "      <td>A2</td>\n",
              "      <td>Italy argues Commission’s contention judgment ...</td>\n",
              "      <td>F</td>\n",
              "      <td>NaN</td>\n",
              "      <td>NaN</td>\n",
              "      <td>A5</td>\n",
              "      <td>NaN</td>\n",
              "      <td>NaN</td>\n",
              "      <td>NaN</td>\n",
              "    </tr>\n",
              "    <tr>\n",
              "      <th>2</th>\n",
              "      <td>2004</td>\n",
              "      <td>prem</td>\n",
              "      <td>A3</td>\n",
              "      <td>respect borne mind pursuant Article 58 Statute...</td>\n",
              "      <td>L</td>\n",
              "      <td>NaN</td>\n",
              "      <td>NaN</td>\n",
              "      <td>NaN</td>\n",
              "      <td>NaN</td>\n",
              "      <td>NaN</td>\n",
              "      <td>Rule</td>\n",
              "    </tr>\n",
              "    <tr>\n",
              "      <th>3</th>\n",
              "      <td>2004</td>\n",
              "      <td>prem</td>\n",
              "      <td>A4</td>\n",
              "      <td>Advocate General states point 20 Opinion Commi...</td>\n",
              "      <td>F</td>\n",
              "      <td>NaN</td>\n",
              "      <td>NaN</td>\n",
              "      <td>NaN</td>\n",
              "      <td>NaN</td>\n",
              "      <td>NaN</td>\n",
              "      <td>Aut</td>\n",
              "    </tr>\n",
              "    <tr>\n",
              "      <th>4</th>\n",
              "      <td>2004</td>\n",
              "      <td>prem</td>\n",
              "      <td>A5</td>\n",
              "      <td>follows Italian Republic’s argument appeal bas...</td>\n",
              "      <td>F</td>\n",
              "      <td>[A3, A4]</td>\n",
              "      <td>NaN</td>\n",
              "      <td>NaN</td>\n",
              "      <td>NaN</td>\n",
              "      <td>NaN</td>\n",
              "      <td>NaN</td>\n",
              "    </tr>\n",
              "  </tbody>\n",
              "</table>\n",
              "</div>\n",
              "      <button class=\"colab-df-convert\" onclick=\"convertToInteractive('df-0c4cee10-932c-4611-b055-8e3e4c256b5d')\"\n",
              "              title=\"Convert this dataframe to an interactive table.\"\n",
              "              style=\"display:none;\">\n",
              "        \n",
              "  <svg xmlns=\"http://www.w3.org/2000/svg\" height=\"24px\"viewBox=\"0 0 24 24\"\n",
              "       width=\"24px\">\n",
              "    <path d=\"M0 0h24v24H0V0z\" fill=\"none\"/>\n",
              "    <path d=\"M18.56 5.44l.94 2.06.94-2.06 2.06-.94-2.06-.94-.94-2.06-.94 2.06-2.06.94zm-11 1L8.5 8.5l.94-2.06 2.06-.94-2.06-.94L8.5 2.5l-.94 2.06-2.06.94zm10 10l.94 2.06.94-2.06 2.06-.94-2.06-.94-.94-2.06-.94 2.06-2.06.94z\"/><path d=\"M17.41 7.96l-1.37-1.37c-.4-.4-.92-.59-1.43-.59-.52 0-1.04.2-1.43.59L10.3 9.45l-7.72 7.72c-.78.78-.78 2.05 0 2.83L4 21.41c.39.39.9.59 1.41.59.51 0 1.02-.2 1.41-.59l7.78-7.78 2.81-2.81c.8-.78.8-2.07 0-2.86zM5.41 20L4 18.59l7.72-7.72 1.47 1.35L5.41 20z\"/>\n",
              "  </svg>\n",
              "      </button>\n",
              "      \n",
              "  <style>\n",
              "    .colab-df-container {\n",
              "      display:flex;\n",
              "      flex-wrap:wrap;\n",
              "      gap: 12px;\n",
              "    }\n",
              "\n",
              "    .colab-df-convert {\n",
              "      background-color: #E8F0FE;\n",
              "      border: none;\n",
              "      border-radius: 50%;\n",
              "      cursor: pointer;\n",
              "      display: none;\n",
              "      fill: #1967D2;\n",
              "      height: 32px;\n",
              "      padding: 0 0 0 0;\n",
              "      width: 32px;\n",
              "    }\n",
              "\n",
              "    .colab-df-convert:hover {\n",
              "      background-color: #E2EBFA;\n",
              "      box-shadow: 0px 1px 2px rgba(60, 64, 67, 0.3), 0px 1px 3px 1px rgba(60, 64, 67, 0.15);\n",
              "      fill: #174EA6;\n",
              "    }\n",
              "\n",
              "    [theme=dark] .colab-df-convert {\n",
              "      background-color: #3B4455;\n",
              "      fill: #D2E3FC;\n",
              "    }\n",
              "\n",
              "    [theme=dark] .colab-df-convert:hover {\n",
              "      background-color: #434B5C;\n",
              "      box-shadow: 0px 1px 3px 1px rgba(0, 0, 0, 0.15);\n",
              "      filter: drop-shadow(0px 1px 2px rgba(0, 0, 0, 0.3));\n",
              "      fill: #FFFFFF;\n",
              "    }\n",
              "  </style>\n",
              "\n",
              "      <script>\n",
              "        const buttonEl =\n",
              "          document.querySelector('#df-0c4cee10-932c-4611-b055-8e3e4c256b5d button.colab-df-convert');\n",
              "        buttonEl.style.display =\n",
              "          google.colab.kernel.accessAllowed ? 'block' : 'none';\n",
              "\n",
              "        async function convertToInteractive(key) {\n",
              "          const element = document.querySelector('#df-0c4cee10-932c-4611-b055-8e3e4c256b5d');\n",
              "          const dataTable =\n",
              "            await google.colab.kernel.invokeFunction('convertToInteractive',\n",
              "                                                     [key], {});\n",
              "          if (!dataTable) return;\n",
              "\n",
              "          const docLinkHtml = 'Like what you see? Visit the ' +\n",
              "            '<a target=\"_blank\" href=https://colab.research.google.com/notebooks/data_table.ipynb>data table notebook</a>'\n",
              "            + ' to learn more about interactive tables.';\n",
              "          element.innerHTML = '';\n",
              "          dataTable['output_type'] = 'display_data';\n",
              "          await google.colab.output.renderOutput(dataTable, element);\n",
              "          const docLink = document.createElement('div');\n",
              "          docLink.innerHTML = docLinkHtml;\n",
              "          element.appendChild(docLink);\n",
              "        }\n",
              "      </script>\n",
              "    </div>\n",
              "  </div>\n",
              "  "
            ]
          },
          "metadata": {},
          "execution_count": 71
        }
      ]
    },
    {
      "cell_type": "code",
      "source": [
        "df[df[\"Name\"] == 'prem']['Argumentation_scheme'].shape"
      ],
      "metadata": {
        "colab": {
          "base_uri": "https://localhost:8080/"
        },
        "id": "qkkWKUMD2m8W",
        "outputId": "3e2ff62e-ffc5-4c34-f023-b59d987204c5"
      },
      "execution_count": 72,
      "outputs": [
        {
          "output_type": "execute_result",
          "data": {
            "text/plain": [
              "(1569,)"
            ]
          },
          "metadata": {},
          "execution_count": 72
        }
      ]
    },
    {
      "cell_type": "code",
      "source": [
        "df[df[\"Name\"] == 'prem']['Argumentation_scheme'].value_counts(dropna=False) # To preserve conc rows"
      ],
      "metadata": {
        "id": "Si2Y5YGNojYg"
      },
      "execution_count": null,
      "outputs": []
    },
    {
      "cell_type": "code",
      "source": [
        "scheme = [\"Aut\", \"Class\", \"Itpr\", \"Lit\", \"Prec\", \"Princ\", \"Psy\", \"Rule\", \"Syst\", \"Tele\"]\n",
        "\n",
        "#df = df.dropna(subset=['Argumentation_scheme']) # Remove rows with NaN in Argumentation_scheme column\n",
        "nan = np.nan\n",
        "df = df.query(\"Name == 'conc' or Argumentation_scheme == Argumentation_scheme\")\n",
        "\n",
        "df[\"Argumentation_scheme\"] = df[\"Argumentation_scheme\"].apply(lambda x: [x[i] for i in range(len(x)) if x[i] in scheme] if isinstance(x, list) else x)\n",
        "df[\"Argumentation_scheme\"] = df[\"Argumentation_scheme\"].apply(lambda x: \"|\".join(sorted(x)) if isinstance(x, list) else x)"
      ],
      "metadata": {
        "colab": {
          "base_uri": "https://localhost:8080/"
        },
        "id": "jt-7kb8JojVn",
        "outputId": "9eb8e8fb-22eb-4ace-ca17-37ad36332b7c"
      },
      "execution_count": 74,
      "outputs": [
        {
          "output_type": "stream",
          "name": "stderr",
          "text": [
            "/usr/local/lib/python3.7/dist-packages/ipykernel_launcher.py:7: SettingWithCopyWarning: \n",
            "A value is trying to be set on a copy of a slice from a DataFrame.\n",
            "Try using .loc[row_indexer,col_indexer] = value instead\n",
            "\n",
            "See the caveats in the documentation: https://pandas.pydata.org/pandas-docs/stable/user_guide/indexing.html#returning-a-view-versus-a-copy\n",
            "  import sys\n",
            "/usr/local/lib/python3.7/dist-packages/ipykernel_launcher.py:8: SettingWithCopyWarning: \n",
            "A value is trying to be set on a copy of a slice from a DataFrame.\n",
            "Try using .loc[row_indexer,col_indexer] = value instead\n",
            "\n",
            "See the caveats in the documentation: https://pandas.pydata.org/pandas-docs/stable/user_guide/indexing.html#returning-a-view-versus-a-copy\n",
            "  \n"
          ]
        }
      ]
    },
    {
      "cell_type": "code",
      "source": [
        "df[\"Name\"].value_counts()"
      ],
      "metadata": {
        "colab": {
          "base_uri": "https://localhost:8080/"
        },
        "id": "vWOuUuotBaFP",
        "outputId": "9b06d9a5-57e7-48a3-b395-1818e51b5ba8"
      },
      "execution_count": 75,
      "outputs": [
        {
          "output_type": "execute_result",
          "data": {
            "text/plain": [
              "prem    663\n",
              "conc    110\n",
              "Name: Name, dtype: int64"
            ]
          },
          "metadata": {},
          "execution_count": 75
        }
      ]
    },
    {
      "cell_type": "code",
      "source": [
        "df['Argumentation_scheme'].value_counts(dropna=False)"
      ],
      "metadata": {
        "id": "oQ4hXHi9ojS1",
        "colab": {
          "base_uri": "https://localhost:8080/"
        },
        "outputId": "2423bf2f-8457-46ab-8981-11fa6d032aa9"
      },
      "execution_count": 76,
      "outputs": [
        {
          "output_type": "execute_result",
          "data": {
            "text/plain": [
              "Prec                  279\n",
              "NaN                   110\n",
              "Itpr                   95\n",
              "Princ                  64\n",
              "Rule                   61\n",
              "Prec|Rule              35\n",
              "Itpr|Prec              22\n",
              "Aut                    21\n",
              "Class|Prec|Rule         9\n",
              "Tele                    8\n",
              "Class                   7\n",
              "Prec|Tele               5\n",
              "Class|Prec              5\n",
              "Aut|Itpr                5\n",
              "Itpr|Tele               4\n",
              "Rule|Syst               3\n",
              "Syst                    3\n",
              "Itpr|Rule               3\n",
              "Prec|Syst               3\n",
              "Psy|Tele                2\n",
              "Lit|Prec                2\n",
              "Princ|Rule              2\n",
              "Lit|Rule                2\n",
              "Prec|Psy|Rule|Tele      1\n",
              "Syst|Tele               1\n",
              "Princ|Tele              1\n",
              "Itpr|Syst               1\n",
              "Itpr|Psy                1\n",
              "Aut|Prec|Princ          1\n",
              "Itpr|Lit                1\n",
              "Lit|Rule|Syst           1\n",
              "Princ|Psy|Syst          1\n",
              "Itpr|Princ|Syst         1\n",
              "Aut|Class               1\n",
              "Lit|Rule|Tele           1\n",
              "Aut|Itpr|Prec           1\n",
              "Prec|Psy                1\n",
              "Aut|Rule                1\n",
              "Aut|Syst                1\n",
              "Lit                     1\n",
              "Prec|Princ              1\n",
              "Psy|Rule                1\n",
              "Aut|Prec                1\n",
              "Class|Rule              1\n",
              "Rule|Tele               1\n",
              "Itpr|Prec|Rule          1\n",
              "Name: Argumentation_scheme, dtype: int64"
            ]
          },
          "metadata": {},
          "execution_count": 76
        }
      ]
    },
    {
      "cell_type": "code",
      "source": [
        "df = df.drop(df[df['Argumentation_scheme'] == \"Rule???\"].index)\n",
        "df = df.drop(df[df['Argumentation_scheme'] == \"B3\"].index)\n",
        "df = df.drop(df[df['Argumentation_scheme'] == \"XXX\"].index)\n",
        "df = df.drop(df[df['Argumentation_scheme'] == \"Syst???\"].index)\n",
        "df = df.drop(df[df['Argumentation_scheme'] == \"Prec>\"].index)\n",
        "df = df.drop(df[df['Argumentation_scheme'] == \"C3\"].index)"
      ],
      "metadata": {
        "id": "4uzUPjQiojKp"
      },
      "execution_count": 77,
      "outputs": []
    },
    {
      "cell_type": "code",
      "source": [
        "df[df[\"Name\"] == 'prem']['Argumentation_scheme'].value_counts(dropna=False)"
      ],
      "metadata": {
        "colab": {
          "base_uri": "https://localhost:8080/"
        },
        "id": "DWe_QFOg4ACT",
        "outputId": "6a598f0a-3ef4-4cbf-9bbd-69f42bec6f6a"
      },
      "execution_count": 78,
      "outputs": [
        {
          "output_type": "execute_result",
          "data": {
            "text/plain": [
              "Prec                  279\n",
              "Itpr                   95\n",
              "Princ                  64\n",
              "Rule                   61\n",
              "Prec|Rule              35\n",
              "Itpr|Prec              22\n",
              "Aut                    21\n",
              "Class|Prec|Rule         9\n",
              "Tele                    8\n",
              "Class                   7\n",
              "Class|Prec              5\n",
              "Aut|Itpr                5\n",
              "Prec|Tele               5\n",
              "Itpr|Tele               4\n",
              "Rule|Syst               3\n",
              "Itpr|Rule               3\n",
              "Prec|Syst               3\n",
              "Syst                    3\n",
              "Princ|Rule              2\n",
              "Psy|Tele                2\n",
              "Lit|Rule                2\n",
              "Lit|Prec                2\n",
              "Prec|Psy|Rule|Tele      1\n",
              "Princ|Tele              1\n",
              "Itpr|Syst               1\n",
              "Itpr|Psy                1\n",
              "Itpr|Lit                1\n",
              "Aut|Prec|Princ          1\n",
              "Princ|Psy|Syst          1\n",
              "Itpr|Princ|Syst         1\n",
              "Lit|Rule|Syst           1\n",
              "Syst|Tele               1\n",
              "Aut|Class               1\n",
              "Lit|Rule|Tele           1\n",
              "Aut|Itpr|Prec           1\n",
              "Prec|Psy                1\n",
              "Aut|Rule                1\n",
              "Aut|Syst                1\n",
              "Lit                     1\n",
              "Prec|Princ              1\n",
              "Psy|Rule                1\n",
              "Aut|Prec                1\n",
              "Class|Rule              1\n",
              "Rule|Tele               1\n",
              "Itpr|Prec|Rule          1\n",
              "Name: Argumentation_scheme, dtype: int64"
            ]
          },
          "metadata": {},
          "execution_count": 78
        }
      ]
    },
    {
      "cell_type": "code",
      "source": [
        "df.to_pickle(\"./dataset.pkl\")  "
      ],
      "metadata": {
        "id": "ckQHU7_4B_4l"
      },
      "execution_count": 79,
      "outputs": []
    }
  ]
}