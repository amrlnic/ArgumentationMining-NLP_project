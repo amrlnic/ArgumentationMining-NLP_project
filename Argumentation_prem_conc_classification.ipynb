{
  "nbformat": 4,
  "nbformat_minor": 0,
  "metadata": {
    "colab": {
      "name": "Argumentation_mining_task1.ipynb",
      "provenance": [],
      "collapsed_sections": []
    },
    "kernelspec": {
      "name": "python3",
      "display_name": "Python 3"
    },
    "language_info": {
      "name": "python"
    }
  },
  "cells": [
    {
      "cell_type": "markdown",
      "source": [
        "# Task for the identification of argumentative / non-argumentative sentences"
      ],
      "metadata": {
        "id": "GJax7NQdgaFJ"
      }
    },
    {
      "cell_type": "markdown",
      "source": [
        "# Setup"
      ],
      "metadata": {
        "id": "Wm0drzw6f0ie"
      }
    },
    {
      "cell_type": "markdown",
      "source": [
        "Files needed to run the notebook:\n",
        "\n",
        "- The pickle file *dataset.pkl*; "
      ],
      "metadata": {
        "id": "MfiwTd3Wn5Lg"
      }
    },
    {
      "cell_type": "markdown",
      "source": [
        "Import libraries:"
      ],
      "metadata": {
        "id": "ZGCVnxokoXQG"
      }
    },
    {
      "cell_type": "code",
      "source": [
        "import pickle as pkl\n",
        "import pandas as pd\n",
        "import seaborn as sns\n",
        "import matplotlib.pyplot as plt\n",
        "import tensorflow as tf\n",
        "import os\n",
        "import json\n",
        "import numpy as np\n",
        "\n",
        "from sentence_transformers import SentenceTransformer\n",
        "from sklearn.feature_extraction.text import CountVectorizer\n",
        "from sklearn.feature_extraction.text import TfidfTransformer\n",
        "from sklearn.model_selection import train_test_split\n",
        "\n",
        "from tensorflow.keras.models import Sequential\n",
        "from tensorflow.keras.layers import Dense, Activation, Dropout\n",
        "from tensorflow.keras.regularizers import l2\n",
        "\n",
        "from yellowbrick.text import FreqDistVisualizer\n"
      ],
      "metadata": {
        "id": "HyoTnNb6Ce9v"
      },
      "execution_count": 1,
      "outputs": []
    },
    {
      "cell_type": "code",
      "execution_count": 2,
      "metadata": {
        "id": "xeO3TDhtn3BT"
      },
      "outputs": [],
      "source": [
        "df = pd.read_pickle(\"./dataset.pkl\")  "
      ]
    },
    {
      "cell_type": "code",
      "source": [
        "df.head()"
      ],
      "metadata": {
        "colab": {
          "base_uri": "https://localhost:8080/",
          "height": 493
        },
        "id": "E_mgQNyFpL8T",
        "outputId": "19d6ff9a-a040-48fa-a527-cbb933fcc8e7"
      },
      "execution_count": 3,
      "outputs": [
        {
          "output_type": "execute_result",
          "data": {
            "text/plain": [
              "  Document  Name  Id                                           Sentence Type  \\\n",
              "2     2004  prem  A3  respect borne mind pursuant Article 58 Statute...    L   \n",
              "3     2004  prem  A4  Advocate General states point 20 Opinion Commi...    F   \n",
              "5     2004  prem  A6  Regarding Wam’s argument Commission’s appeal i...  L|F   \n",
              "6     2004  prem  A7  Appeals judgments Court First Instance governe...    L   \n",
              "7     2004  prem  A8  Next must noted obligation provide statement r...    L   \n",
              "\n",
              "  Supported_by Supported_from_failure Attacked_by Inhibited_by Rephrased_by  \\\n",
              "2          NaN                    NaN         NaN          NaN          NaN   \n",
              "3          NaN                    NaN         NaN          NaN          NaN   \n",
              "5          NaN                    NaN         NaN          NaN          NaN   \n",
              "6          NaN                    NaN         NaN          NaN          NaN   \n",
              "7          NaN                    NaN         NaN          NaN          NaN   \n",
              "\n",
              "  Argumentation_scheme  \n",
              "2                 Rule  \n",
              "3                  Aut  \n",
              "5                 Rule  \n",
              "6                 Rule  \n",
              "7                 Prec  "
            ],
            "text/html": [
              "\n",
              "  <div id=\"df-b2698236-c4f0-4fe2-b88a-2eb710f17bed\">\n",
              "    <div class=\"colab-df-container\">\n",
              "      <div>\n",
              "<style scoped>\n",
              "    .dataframe tbody tr th:only-of-type {\n",
              "        vertical-align: middle;\n",
              "    }\n",
              "\n",
              "    .dataframe tbody tr th {\n",
              "        vertical-align: top;\n",
              "    }\n",
              "\n",
              "    .dataframe thead th {\n",
              "        text-align: right;\n",
              "    }\n",
              "</style>\n",
              "<table border=\"1\" class=\"dataframe\">\n",
              "  <thead>\n",
              "    <tr style=\"text-align: right;\">\n",
              "      <th></th>\n",
              "      <th>Document</th>\n",
              "      <th>Name</th>\n",
              "      <th>Id</th>\n",
              "      <th>Sentence</th>\n",
              "      <th>Type</th>\n",
              "      <th>Supported_by</th>\n",
              "      <th>Supported_from_failure</th>\n",
              "      <th>Attacked_by</th>\n",
              "      <th>Inhibited_by</th>\n",
              "      <th>Rephrased_by</th>\n",
              "      <th>Argumentation_scheme</th>\n",
              "    </tr>\n",
              "  </thead>\n",
              "  <tbody>\n",
              "    <tr>\n",
              "      <th>2</th>\n",
              "      <td>2004</td>\n",
              "      <td>prem</td>\n",
              "      <td>A3</td>\n",
              "      <td>respect borne mind pursuant Article 58 Statute...</td>\n",
              "      <td>L</td>\n",
              "      <td>NaN</td>\n",
              "      <td>NaN</td>\n",
              "      <td>NaN</td>\n",
              "      <td>NaN</td>\n",
              "      <td>NaN</td>\n",
              "      <td>Rule</td>\n",
              "    </tr>\n",
              "    <tr>\n",
              "      <th>3</th>\n",
              "      <td>2004</td>\n",
              "      <td>prem</td>\n",
              "      <td>A4</td>\n",
              "      <td>Advocate General states point 20 Opinion Commi...</td>\n",
              "      <td>F</td>\n",
              "      <td>NaN</td>\n",
              "      <td>NaN</td>\n",
              "      <td>NaN</td>\n",
              "      <td>NaN</td>\n",
              "      <td>NaN</td>\n",
              "      <td>Aut</td>\n",
              "    </tr>\n",
              "    <tr>\n",
              "      <th>5</th>\n",
              "      <td>2004</td>\n",
              "      <td>prem</td>\n",
              "      <td>A6</td>\n",
              "      <td>Regarding Wam’s argument Commission’s appeal i...</td>\n",
              "      <td>L|F</td>\n",
              "      <td>NaN</td>\n",
              "      <td>NaN</td>\n",
              "      <td>NaN</td>\n",
              "      <td>NaN</td>\n",
              "      <td>NaN</td>\n",
              "      <td>Rule</td>\n",
              "    </tr>\n",
              "    <tr>\n",
              "      <th>6</th>\n",
              "      <td>2004</td>\n",
              "      <td>prem</td>\n",
              "      <td>A7</td>\n",
              "      <td>Appeals judgments Court First Instance governe...</td>\n",
              "      <td>L</td>\n",
              "      <td>NaN</td>\n",
              "      <td>NaN</td>\n",
              "      <td>NaN</td>\n",
              "      <td>NaN</td>\n",
              "      <td>NaN</td>\n",
              "      <td>Rule</td>\n",
              "    </tr>\n",
              "    <tr>\n",
              "      <th>7</th>\n",
              "      <td>2004</td>\n",
              "      <td>prem</td>\n",
              "      <td>A8</td>\n",
              "      <td>Next must noted obligation provide statement r...</td>\n",
              "      <td>L</td>\n",
              "      <td>NaN</td>\n",
              "      <td>NaN</td>\n",
              "      <td>NaN</td>\n",
              "      <td>NaN</td>\n",
              "      <td>NaN</td>\n",
              "      <td>Prec</td>\n",
              "    </tr>\n",
              "  </tbody>\n",
              "</table>\n",
              "</div>\n",
              "      <button class=\"colab-df-convert\" onclick=\"convertToInteractive('df-b2698236-c4f0-4fe2-b88a-2eb710f17bed')\"\n",
              "              title=\"Convert this dataframe to an interactive table.\"\n",
              "              style=\"display:none;\">\n",
              "        \n",
              "  <svg xmlns=\"http://www.w3.org/2000/svg\" height=\"24px\"viewBox=\"0 0 24 24\"\n",
              "       width=\"24px\">\n",
              "    <path d=\"M0 0h24v24H0V0z\" fill=\"none\"/>\n",
              "    <path d=\"M18.56 5.44l.94 2.06.94-2.06 2.06-.94-2.06-.94-.94-2.06-.94 2.06-2.06.94zm-11 1L8.5 8.5l.94-2.06 2.06-.94-2.06-.94L8.5 2.5l-.94 2.06-2.06.94zm10 10l.94 2.06.94-2.06 2.06-.94-2.06-.94-.94-2.06-.94 2.06-2.06.94z\"/><path d=\"M17.41 7.96l-1.37-1.37c-.4-.4-.92-.59-1.43-.59-.52 0-1.04.2-1.43.59L10.3 9.45l-7.72 7.72c-.78.78-.78 2.05 0 2.83L4 21.41c.39.39.9.59 1.41.59.51 0 1.02-.2 1.41-.59l7.78-7.78 2.81-2.81c.8-.78.8-2.07 0-2.86zM5.41 20L4 18.59l7.72-7.72 1.47 1.35L5.41 20z\"/>\n",
              "  </svg>\n",
              "      </button>\n",
              "      \n",
              "  <style>\n",
              "    .colab-df-container {\n",
              "      display:flex;\n",
              "      flex-wrap:wrap;\n",
              "      gap: 12px;\n",
              "    }\n",
              "\n",
              "    .colab-df-convert {\n",
              "      background-color: #E8F0FE;\n",
              "      border: none;\n",
              "      border-radius: 50%;\n",
              "      cursor: pointer;\n",
              "      display: none;\n",
              "      fill: #1967D2;\n",
              "      height: 32px;\n",
              "      padding: 0 0 0 0;\n",
              "      width: 32px;\n",
              "    }\n",
              "\n",
              "    .colab-df-convert:hover {\n",
              "      background-color: #E2EBFA;\n",
              "      box-shadow: 0px 1px 2px rgba(60, 64, 67, 0.3), 0px 1px 3px 1px rgba(60, 64, 67, 0.15);\n",
              "      fill: #174EA6;\n",
              "    }\n",
              "\n",
              "    [theme=dark] .colab-df-convert {\n",
              "      background-color: #3B4455;\n",
              "      fill: #D2E3FC;\n",
              "    }\n",
              "\n",
              "    [theme=dark] .colab-df-convert:hover {\n",
              "      background-color: #434B5C;\n",
              "      box-shadow: 0px 1px 3px 1px rgba(0, 0, 0, 0.15);\n",
              "      filter: drop-shadow(0px 1px 2px rgba(0, 0, 0, 0.3));\n",
              "      fill: #FFFFFF;\n",
              "    }\n",
              "  </style>\n",
              "\n",
              "      <script>\n",
              "        const buttonEl =\n",
              "          document.querySelector('#df-b2698236-c4f0-4fe2-b88a-2eb710f17bed button.colab-df-convert');\n",
              "        buttonEl.style.display =\n",
              "          google.colab.kernel.accessAllowed ? 'block' : 'none';\n",
              "\n",
              "        async function convertToInteractive(key) {\n",
              "          const element = document.querySelector('#df-b2698236-c4f0-4fe2-b88a-2eb710f17bed');\n",
              "          const dataTable =\n",
              "            await google.colab.kernel.invokeFunction('convertToInteractive',\n",
              "                                                     [key], {});\n",
              "          if (!dataTable) return;\n",
              "\n",
              "          const docLinkHtml = 'Like what you see? Visit the ' +\n",
              "            '<a target=\"_blank\" href=https://colab.research.google.com/notebooks/data_table.ipynb>data table notebook</a>'\n",
              "            + ' to learn more about interactive tables.';\n",
              "          element.innerHTML = '';\n",
              "          dataTable['output_type'] = 'display_data';\n",
              "          await google.colab.output.renderOutput(dataTable, element);\n",
              "          const docLink = document.createElement('div');\n",
              "          docLink.innerHTML = docLinkHtml;\n",
              "          element.appendChild(docLink);\n",
              "        }\n",
              "      </script>\n",
              "    </div>\n",
              "  </div>\n",
              "  "
            ]
          },
          "metadata": {},
          "execution_count": 3
        }
      ]
    },
    {
      "cell_type": "code",
      "source": [
        "df[\"Sentence\"].values[0]"
      ],
      "metadata": {
        "colab": {
          "base_uri": "https://localhost:8080/",
          "height": 53
        },
        "id": "mQPDpnqBWs0d",
        "outputId": "99523aa7-69cd-4291-9545-caf098025033"
      },
      "execution_count": 4,
      "outputs": [
        {
          "output_type": "execute_result",
          "data": {
            "text/plain": [
              "'respect borne mind pursuant Article 58 Statute Court Justice appeal Court Justice limited points law lie grounds particular infringement Community law Court First Instance'"
            ],
            "application/vnd.google.colaboratory.intrinsic+json": {
              "type": "string"
            }
          },
          "metadata": {},
          "execution_count": 4
        }
      ]
    },
    {
      "cell_type": "code",
      "source": [
        "df[\"Name\"].value_counts()"
      ],
      "metadata": {
        "colab": {
          "base_uri": "https://localhost:8080/"
        },
        "id": "g4v0aC-cC53Z",
        "outputId": "c979471f-0914-4474-94b5-da66a2f6db6d"
      },
      "execution_count": 5,
      "outputs": [
        {
          "output_type": "execute_result",
          "data": {
            "text/plain": [
              "prem    663\n",
              "conc    110\n",
              "Name: Name, dtype: int64"
            ]
          },
          "metadata": {},
          "execution_count": 5
        }
      ]
    },
    {
      "cell_type": "code",
      "source": [
        "df_balanced = pd.concat([df[df[\"Name\"] == \"prem\"].sample(110), df[df[\"Name\"] ==\"conc\"]])"
      ],
      "metadata": {
        "id": "cg5TNB0xDB3I"
      },
      "execution_count": 6,
      "outputs": []
    },
    {
      "cell_type": "code",
      "source": [
        "df_balanced[\"Name\"].value_counts()"
      ],
      "metadata": {
        "colab": {
          "base_uri": "https://localhost:8080/"
        },
        "id": "ND7BsHfKDdXD",
        "outputId": "5d69ab93-69d4-488d-ebe8-7350245d2f41"
      },
      "execution_count": 7,
      "outputs": [
        {
          "output_type": "execute_result",
          "data": {
            "text/plain": [
              "prem    110\n",
              "conc    110\n",
              "Name: Name, dtype: int64"
            ]
          },
          "metadata": {},
          "execution_count": 7
        }
      ]
    },
    {
      "cell_type": "code",
      "source": [
        "df_balanced.head()"
      ],
      "metadata": {
        "colab": {
          "base_uri": "https://localhost:8080/",
          "height": 565
        },
        "id": "uBKpQwOsHPx5",
        "outputId": "d39ea344-f972-4493-989f-b26ad5880af8"
      },
      "execution_count": 8,
      "outputs": [
        {
          "output_type": "execute_result",
          "data": {
            "text/plain": [
              "     Document  Name   Id                                           Sentence  \\\n",
              "1582     2028  prem  A13  general application derives fact decisions app...   \n",
              "48       2008  prem  A12  follows Member State relies test administrativ...   \n",
              "1576     2028  prem   A7  remove certain kinds subcategories nonlegislat...   \n",
              "257      2013  prem   D5  examination Commission whether particular meas...   \n",
              "1286     2027  prem   B3  particular competent authorities discretionary...   \n",
              "\n",
              "     Type Supported_by Supported_from_failure Attacked_by Inhibited_by  \\\n",
              "1582    L          NaN                    NaN         NaN          NaN   \n",
              "48      L          A11                    NaN         NaN          NaN   \n",
              "1576    L          NaN                    NaN         NaN          NaN   \n",
              "257     L          NaN                    NaN         NaN          NaN   \n",
              "1286    L          NaN                    NaN         NaN          NaN   \n",
              "\n",
              "     Rephrased_by Argumentation_scheme  \n",
              "1582          NaN                 Prec  \n",
              "48            NaN                Princ  \n",
              "1576          NaN            Itpr|Syst  \n",
              "257           NaN                 Prec  \n",
              "1286          NaN                 Itpr  "
            ],
            "text/html": [
              "\n",
              "  <div id=\"df-9778cfa0-fc5c-48dd-983d-e0e0995e780b\">\n",
              "    <div class=\"colab-df-container\">\n",
              "      <div>\n",
              "<style scoped>\n",
              "    .dataframe tbody tr th:only-of-type {\n",
              "        vertical-align: middle;\n",
              "    }\n",
              "\n",
              "    .dataframe tbody tr th {\n",
              "        vertical-align: top;\n",
              "    }\n",
              "\n",
              "    .dataframe thead th {\n",
              "        text-align: right;\n",
              "    }\n",
              "</style>\n",
              "<table border=\"1\" class=\"dataframe\">\n",
              "  <thead>\n",
              "    <tr style=\"text-align: right;\">\n",
              "      <th></th>\n",
              "      <th>Document</th>\n",
              "      <th>Name</th>\n",
              "      <th>Id</th>\n",
              "      <th>Sentence</th>\n",
              "      <th>Type</th>\n",
              "      <th>Supported_by</th>\n",
              "      <th>Supported_from_failure</th>\n",
              "      <th>Attacked_by</th>\n",
              "      <th>Inhibited_by</th>\n",
              "      <th>Rephrased_by</th>\n",
              "      <th>Argumentation_scheme</th>\n",
              "    </tr>\n",
              "  </thead>\n",
              "  <tbody>\n",
              "    <tr>\n",
              "      <th>1582</th>\n",
              "      <td>2028</td>\n",
              "      <td>prem</td>\n",
              "      <td>A13</td>\n",
              "      <td>general application derives fact decisions app...</td>\n",
              "      <td>L</td>\n",
              "      <td>NaN</td>\n",
              "      <td>NaN</td>\n",
              "      <td>NaN</td>\n",
              "      <td>NaN</td>\n",
              "      <td>NaN</td>\n",
              "      <td>Prec</td>\n",
              "    </tr>\n",
              "    <tr>\n",
              "      <th>48</th>\n",
              "      <td>2008</td>\n",
              "      <td>prem</td>\n",
              "      <td>A12</td>\n",
              "      <td>follows Member State relies test administrativ...</td>\n",
              "      <td>L</td>\n",
              "      <td>A11</td>\n",
              "      <td>NaN</td>\n",
              "      <td>NaN</td>\n",
              "      <td>NaN</td>\n",
              "      <td>NaN</td>\n",
              "      <td>Princ</td>\n",
              "    </tr>\n",
              "    <tr>\n",
              "      <th>1576</th>\n",
              "      <td>2028</td>\n",
              "      <td>prem</td>\n",
              "      <td>A7</td>\n",
              "      <td>remove certain kinds subcategories nonlegislat...</td>\n",
              "      <td>L</td>\n",
              "      <td>NaN</td>\n",
              "      <td>NaN</td>\n",
              "      <td>NaN</td>\n",
              "      <td>NaN</td>\n",
              "      <td>NaN</td>\n",
              "      <td>Itpr|Syst</td>\n",
              "    </tr>\n",
              "    <tr>\n",
              "      <th>257</th>\n",
              "      <td>2013</td>\n",
              "      <td>prem</td>\n",
              "      <td>D5</td>\n",
              "      <td>examination Commission whether particular meas...</td>\n",
              "      <td>L</td>\n",
              "      <td>NaN</td>\n",
              "      <td>NaN</td>\n",
              "      <td>NaN</td>\n",
              "      <td>NaN</td>\n",
              "      <td>NaN</td>\n",
              "      <td>Prec</td>\n",
              "    </tr>\n",
              "    <tr>\n",
              "      <th>1286</th>\n",
              "      <td>2027</td>\n",
              "      <td>prem</td>\n",
              "      <td>B3</td>\n",
              "      <td>particular competent authorities discretionary...</td>\n",
              "      <td>L</td>\n",
              "      <td>NaN</td>\n",
              "      <td>NaN</td>\n",
              "      <td>NaN</td>\n",
              "      <td>NaN</td>\n",
              "      <td>NaN</td>\n",
              "      <td>Itpr</td>\n",
              "    </tr>\n",
              "  </tbody>\n",
              "</table>\n",
              "</div>\n",
              "      <button class=\"colab-df-convert\" onclick=\"convertToInteractive('df-9778cfa0-fc5c-48dd-983d-e0e0995e780b')\"\n",
              "              title=\"Convert this dataframe to an interactive table.\"\n",
              "              style=\"display:none;\">\n",
              "        \n",
              "  <svg xmlns=\"http://www.w3.org/2000/svg\" height=\"24px\"viewBox=\"0 0 24 24\"\n",
              "       width=\"24px\">\n",
              "    <path d=\"M0 0h24v24H0V0z\" fill=\"none\"/>\n",
              "    <path d=\"M18.56 5.44l.94 2.06.94-2.06 2.06-.94-2.06-.94-.94-2.06-.94 2.06-2.06.94zm-11 1L8.5 8.5l.94-2.06 2.06-.94-2.06-.94L8.5 2.5l-.94 2.06-2.06.94zm10 10l.94 2.06.94-2.06 2.06-.94-2.06-.94-.94-2.06-.94 2.06-2.06.94z\"/><path d=\"M17.41 7.96l-1.37-1.37c-.4-.4-.92-.59-1.43-.59-.52 0-1.04.2-1.43.59L10.3 9.45l-7.72 7.72c-.78.78-.78 2.05 0 2.83L4 21.41c.39.39.9.59 1.41.59.51 0 1.02-.2 1.41-.59l7.78-7.78 2.81-2.81c.8-.78.8-2.07 0-2.86zM5.41 20L4 18.59l7.72-7.72 1.47 1.35L5.41 20z\"/>\n",
              "  </svg>\n",
              "      </button>\n",
              "      \n",
              "  <style>\n",
              "    .colab-df-container {\n",
              "      display:flex;\n",
              "      flex-wrap:wrap;\n",
              "      gap: 12px;\n",
              "    }\n",
              "\n",
              "    .colab-df-convert {\n",
              "      background-color: #E8F0FE;\n",
              "      border: none;\n",
              "      border-radius: 50%;\n",
              "      cursor: pointer;\n",
              "      display: none;\n",
              "      fill: #1967D2;\n",
              "      height: 32px;\n",
              "      padding: 0 0 0 0;\n",
              "      width: 32px;\n",
              "    }\n",
              "\n",
              "    .colab-df-convert:hover {\n",
              "      background-color: #E2EBFA;\n",
              "      box-shadow: 0px 1px 2px rgba(60, 64, 67, 0.3), 0px 1px 3px 1px rgba(60, 64, 67, 0.15);\n",
              "      fill: #174EA6;\n",
              "    }\n",
              "\n",
              "    [theme=dark] .colab-df-convert {\n",
              "      background-color: #3B4455;\n",
              "      fill: #D2E3FC;\n",
              "    }\n",
              "\n",
              "    [theme=dark] .colab-df-convert:hover {\n",
              "      background-color: #434B5C;\n",
              "      box-shadow: 0px 1px 3px 1px rgba(0, 0, 0, 0.15);\n",
              "      filter: drop-shadow(0px 1px 2px rgba(0, 0, 0, 0.3));\n",
              "      fill: #FFFFFF;\n",
              "    }\n",
              "  </style>\n",
              "\n",
              "      <script>\n",
              "        const buttonEl =\n",
              "          document.querySelector('#df-9778cfa0-fc5c-48dd-983d-e0e0995e780b button.colab-df-convert');\n",
              "        buttonEl.style.display =\n",
              "          google.colab.kernel.accessAllowed ? 'block' : 'none';\n",
              "\n",
              "        async function convertToInteractive(key) {\n",
              "          const element = document.querySelector('#df-9778cfa0-fc5c-48dd-983d-e0e0995e780b');\n",
              "          const dataTable =\n",
              "            await google.colab.kernel.invokeFunction('convertToInteractive',\n",
              "                                                     [key], {});\n",
              "          if (!dataTable) return;\n",
              "\n",
              "          const docLinkHtml = 'Like what you see? Visit the ' +\n",
              "            '<a target=\"_blank\" href=https://colab.research.google.com/notebooks/data_table.ipynb>data table notebook</a>'\n",
              "            + ' to learn more about interactive tables.';\n",
              "          element.innerHTML = '';\n",
              "          dataTable['output_type'] = 'display_data';\n",
              "          await google.colab.output.renderOutput(dataTable, element);\n",
              "          const docLink = document.createElement('div');\n",
              "          docLink.innerHTML = docLinkHtml;\n",
              "          element.appendChild(docLink);\n",
              "        }\n",
              "      </script>\n",
              "    </div>\n",
              "  </div>\n",
              "  "
            ]
          },
          "metadata": {},
          "execution_count": 8
        }
      ]
    },
    {
      "cell_type": "markdown",
      "source": [
        "Choice of parameters:"
      ],
      "metadata": {
        "id": "JIZ4EXFsgyL9"
      }
    },
    {
      "cell_type": "code",
      "source": [
        "# EMBEDDINGS (uncomment the chosen one)\n",
        "# EMBEDDING = \"bert_sentence\"\n",
        "EMBEDDING = \"legal_bert_sentence\"\n",
        "# EMBEDDING = \"tfidf\"\n",
        "\n",
        "# MODELS (uncomment the chosen one)\n",
        "MODEL = \"SVC\"\n",
        "# MODEL = \"RNN\"\n",
        "# MODEL = \"BERT\"\n",
        "\n",
        "# DATASET (uncomment the chosen one)\n",
        "# DATASET = df_balanced\n",
        "DATASET = df\n",
        "\n",
        "TEST_SIZE = 0.3\n",
        "VAL_SIZE = 0.1  # percentage taken from the train subset\n",
        "\n",
        "# MODEL PARAMETERS\n",
        "\n",
        "# RNN & BERT\n",
        "EPOCHS = 100\n",
        "BATCH_SIZE = 64\n",
        "LR = 0.0000001\n",
        "DROP = 0.3\n",
        "\n",
        "# ONLY RNN PARAMETERS\n",
        "L2_FACTOR = 0.001\n",
        "LAYERS = [128, 64, 32] # 3 layers\n",
        "\n",
        "\n",
        "# SVC\n",
        "KERNEL = \"sigmoid\" #{linear, poly, rbf, sigmoid’} \n",
        "GAMMA = 0.01\n",
        "C =0.001\n",
        "DEGREE = 3 # only for kernel \"poly\""
      ],
      "metadata": {
        "id": "VLAbKRj09fNw"
      },
      "execution_count": 9,
      "outputs": []
    },
    {
      "cell_type": "code",
      "source": [
        "scheme_one_hot = pd.get_dummies(DATASET['Name'])\n",
        "\n",
        "df_new = pd.concat([DATASET['Sentence'],scheme_one_hot],axis=1)\n",
        "df_new.head()"
      ],
      "metadata": {
        "id": "jwDWRMdPD0-Q",
        "colab": {
          "base_uri": "https://localhost:8080/",
          "height": 206
        },
        "outputId": "11f25837-f77a-4f53-c6f9-3d1836479b8d"
      },
      "execution_count": 10,
      "outputs": [
        {
          "output_type": "execute_result",
          "data": {
            "text/plain": [
              "                                            Sentence  conc  prem\n",
              "2  respect borne mind pursuant Article 58 Statute...     0     1\n",
              "3  Advocate General states point 20 Opinion Commi...     0     1\n",
              "5  Regarding Wam’s argument Commission’s appeal i...     0     1\n",
              "6  Appeals judgments Court First Instance governe...     0     1\n",
              "7  Next must noted obligation provide statement r...     0     1"
            ],
            "text/html": [
              "\n",
              "  <div id=\"df-eca3a2fe-017e-4e0e-beb8-ef0ec4b50a7f\">\n",
              "    <div class=\"colab-df-container\">\n",
              "      <div>\n",
              "<style scoped>\n",
              "    .dataframe tbody tr th:only-of-type {\n",
              "        vertical-align: middle;\n",
              "    }\n",
              "\n",
              "    .dataframe tbody tr th {\n",
              "        vertical-align: top;\n",
              "    }\n",
              "\n",
              "    .dataframe thead th {\n",
              "        text-align: right;\n",
              "    }\n",
              "</style>\n",
              "<table border=\"1\" class=\"dataframe\">\n",
              "  <thead>\n",
              "    <tr style=\"text-align: right;\">\n",
              "      <th></th>\n",
              "      <th>Sentence</th>\n",
              "      <th>conc</th>\n",
              "      <th>prem</th>\n",
              "    </tr>\n",
              "  </thead>\n",
              "  <tbody>\n",
              "    <tr>\n",
              "      <th>2</th>\n",
              "      <td>respect borne mind pursuant Article 58 Statute...</td>\n",
              "      <td>0</td>\n",
              "      <td>1</td>\n",
              "    </tr>\n",
              "    <tr>\n",
              "      <th>3</th>\n",
              "      <td>Advocate General states point 20 Opinion Commi...</td>\n",
              "      <td>0</td>\n",
              "      <td>1</td>\n",
              "    </tr>\n",
              "    <tr>\n",
              "      <th>5</th>\n",
              "      <td>Regarding Wam’s argument Commission’s appeal i...</td>\n",
              "      <td>0</td>\n",
              "      <td>1</td>\n",
              "    </tr>\n",
              "    <tr>\n",
              "      <th>6</th>\n",
              "      <td>Appeals judgments Court First Instance governe...</td>\n",
              "      <td>0</td>\n",
              "      <td>1</td>\n",
              "    </tr>\n",
              "    <tr>\n",
              "      <th>7</th>\n",
              "      <td>Next must noted obligation provide statement r...</td>\n",
              "      <td>0</td>\n",
              "      <td>1</td>\n",
              "    </tr>\n",
              "  </tbody>\n",
              "</table>\n",
              "</div>\n",
              "      <button class=\"colab-df-convert\" onclick=\"convertToInteractive('df-eca3a2fe-017e-4e0e-beb8-ef0ec4b50a7f')\"\n",
              "              title=\"Convert this dataframe to an interactive table.\"\n",
              "              style=\"display:none;\">\n",
              "        \n",
              "  <svg xmlns=\"http://www.w3.org/2000/svg\" height=\"24px\"viewBox=\"0 0 24 24\"\n",
              "       width=\"24px\">\n",
              "    <path d=\"M0 0h24v24H0V0z\" fill=\"none\"/>\n",
              "    <path d=\"M18.56 5.44l.94 2.06.94-2.06 2.06-.94-2.06-.94-.94-2.06-.94 2.06-2.06.94zm-11 1L8.5 8.5l.94-2.06 2.06-.94-2.06-.94L8.5 2.5l-.94 2.06-2.06.94zm10 10l.94 2.06.94-2.06 2.06-.94-2.06-.94-.94-2.06-.94 2.06-2.06.94z\"/><path d=\"M17.41 7.96l-1.37-1.37c-.4-.4-.92-.59-1.43-.59-.52 0-1.04.2-1.43.59L10.3 9.45l-7.72 7.72c-.78.78-.78 2.05 0 2.83L4 21.41c.39.39.9.59 1.41.59.51 0 1.02-.2 1.41-.59l7.78-7.78 2.81-2.81c.8-.78.8-2.07 0-2.86zM5.41 20L4 18.59l7.72-7.72 1.47 1.35L5.41 20z\"/>\n",
              "  </svg>\n",
              "      </button>\n",
              "      \n",
              "  <style>\n",
              "    .colab-df-container {\n",
              "      display:flex;\n",
              "      flex-wrap:wrap;\n",
              "      gap: 12px;\n",
              "    }\n",
              "\n",
              "    .colab-df-convert {\n",
              "      background-color: #E8F0FE;\n",
              "      border: none;\n",
              "      border-radius: 50%;\n",
              "      cursor: pointer;\n",
              "      display: none;\n",
              "      fill: #1967D2;\n",
              "      height: 32px;\n",
              "      padding: 0 0 0 0;\n",
              "      width: 32px;\n",
              "    }\n",
              "\n",
              "    .colab-df-convert:hover {\n",
              "      background-color: #E2EBFA;\n",
              "      box-shadow: 0px 1px 2px rgba(60, 64, 67, 0.3), 0px 1px 3px 1px rgba(60, 64, 67, 0.15);\n",
              "      fill: #174EA6;\n",
              "    }\n",
              "\n",
              "    [theme=dark] .colab-df-convert {\n",
              "      background-color: #3B4455;\n",
              "      fill: #D2E3FC;\n",
              "    }\n",
              "\n",
              "    [theme=dark] .colab-df-convert:hover {\n",
              "      background-color: #434B5C;\n",
              "      box-shadow: 0px 1px 3px 1px rgba(0, 0, 0, 0.15);\n",
              "      filter: drop-shadow(0px 1px 2px rgba(0, 0, 0, 0.3));\n",
              "      fill: #FFFFFF;\n",
              "    }\n",
              "  </style>\n",
              "\n",
              "      <script>\n",
              "        const buttonEl =\n",
              "          document.querySelector('#df-eca3a2fe-017e-4e0e-beb8-ef0ec4b50a7f button.colab-df-convert');\n",
              "        buttonEl.style.display =\n",
              "          google.colab.kernel.accessAllowed ? 'block' : 'none';\n",
              "\n",
              "        async function convertToInteractive(key) {\n",
              "          const element = document.querySelector('#df-eca3a2fe-017e-4e0e-beb8-ef0ec4b50a7f');\n",
              "          const dataTable =\n",
              "            await google.colab.kernel.invokeFunction('convertToInteractive',\n",
              "                                                     [key], {});\n",
              "          if (!dataTable) return;\n",
              "\n",
              "          const docLinkHtml = 'Like what you see? Visit the ' +\n",
              "            '<a target=\"_blank\" href=https://colab.research.google.com/notebooks/data_table.ipynb>data table notebook</a>'\n",
              "            + ' to learn more about interactive tables.';\n",
              "          element.innerHTML = '';\n",
              "          dataTable['output_type'] = 'display_data';\n",
              "          await google.colab.output.renderOutput(dataTable, element);\n",
              "          const docLink = document.createElement('div');\n",
              "          docLink.innerHTML = docLinkHtml;\n",
              "          element.appendChild(docLink);\n",
              "        }\n",
              "      </script>\n",
              "    </div>\n",
              "  </div>\n",
              "  "
            ]
          },
          "metadata": {},
          "execution_count": 10
        }
      ]
    },
    {
      "cell_type": "markdown",
      "source": [
        "# Embedding"
      ],
      "metadata": {
        "id": "dhGH4h5igrAS"
      }
    },
    {
      "cell_type": "code",
      "source": [
        "if EMBEDDING == \"bert_sentence\" or EMBEDDING == \"legal_bert_sentence\":\n",
        "\n",
        "  if EMBEDDING == \"bert_sentence\":\n",
        "    sbert_model = SentenceTransformer('bert-base-nli-mean-tokens')\n",
        "  if EMBEDDING == \"legal_bert_sentence\":\n",
        "    sbert_model = SentenceTransformer(\"nlpaueb/legal-bert-small-uncased\")\n",
        "\n",
        "  sentence_embeddings = sbert_model.encode(df_new[\"Sentence\"].values)\n",
        "\n",
        "  X = sentence_embeddings\n",
        "  if MODEL == \"RNN\" or MODEL == \"BERT\":\n",
        "    y = scheme_one_hot\n",
        "  if MODEL == \"SVC\":\n",
        "    y = DATASET['Name'].apply(lambda x: 1 if x=='prem' else 0)"
      ],
      "metadata": {
        "colab": {
          "base_uri": "https://localhost:8080/"
        },
        "id": "dBcVUGSyQNaD",
        "outputId": "e2e5969e-4cec-4383-f771-2fdb3a694565"
      },
      "execution_count": 11,
      "outputs": [
        {
          "output_type": "stream",
          "name": "stderr",
          "text": [
            "WARNING:root:No sentence-transformers model found with name /root/.cache/torch/sentence_transformers/nlpaueb_legal-bert-small-uncased. Creating a new one with MEAN pooling.\n",
            "Some weights of the model checkpoint at /root/.cache/torch/sentence_transformers/nlpaueb_legal-bert-small-uncased were not used when initializing BertModel: ['cls.predictions.transform.dense.weight', 'cls.predictions.decoder.bias', 'cls.predictions.transform.dense.bias', 'cls.predictions.bias', 'cls.predictions.transform.LayerNorm.bias', 'cls.seq_relationship.bias', 'cls.seq_relationship.weight', 'cls.predictions.decoder.weight', 'cls.predictions.transform.LayerNorm.weight']\n",
            "- This IS expected if you are initializing BertModel from the checkpoint of a model trained on another task or with another architecture (e.g. initializing a BertForSequenceClassification model from a BertForPreTraining model).\n",
            "- This IS NOT expected if you are initializing BertModel from the checkpoint of a model that you expect to be exactly identical (initializing a BertForSequenceClassification model from a BertForSequenceClassification model).\n"
          ]
        }
      ]
    },
    {
      "cell_type": "code",
      "source": [
        "if EMBEDDING == \"tfidf\":\n",
        "  #Convert sentences into vectors \n",
        "  vectorizer = CountVectorizer()\n",
        "  X = vectorizer.fit_transform(df_new[\"Sentence\"].values)\n",
        "\n",
        "  if MODEL == \"RNN\":\n",
        "    y = scheme_one_hot\n",
        "  if MODEL == \"SVC\":\n",
        "    y = DATASET['Name'].apply(lambda x: 1 if x=='prem' else 0)\n",
        "\n",
        "  # Embeddings with tfidf\n",
        "  tfidf = TfidfTransformer()\n",
        "  X = tfidf.fit_transform(X)\n",
        "  X = X.toarray()"
      ],
      "metadata": {
        "id": "7eJw-JuMFZjf"
      },
      "execution_count": 12,
      "outputs": []
    },
    {
      "cell_type": "code",
      "source": [
        "print(\"EMBEDDING: \", EMBEDDING)\n",
        "print(\"SHAPE X: \", X.shape)\n",
        "print(\"SHAPE y: \", y.shape)"
      ],
      "metadata": {
        "colab": {
          "base_uri": "https://localhost:8080/"
        },
        "id": "ngxCnro4Yhv2",
        "outputId": "b2f6682e-f7e1-46c5-bb34-0164cec88d9c"
      },
      "execution_count": 13,
      "outputs": [
        {
          "output_type": "stream",
          "name": "stdout",
          "text": [
            "EMBEDDING:  legal_bert_sentence\n",
            "SHAPE X:  (773, 512)\n",
            "SHAPE y:  (773,)\n"
          ]
        }
      ]
    },
    {
      "cell_type": "code",
      "source": [
        "#Visualize word frequency\n",
        "if EMBEDDING == \"tfidf\":\n",
        "  features   = vectorizer.get_feature_names()\n",
        "  visualizer = FreqDistVisualizer(features=features, size=(800, 1000))\n",
        "  visualizer.fit(X)\n",
        "  visualizer.finalize()"
      ],
      "metadata": {
        "id": "6hlFL410FeF-"
      },
      "execution_count": 14,
      "outputs": []
    },
    {
      "cell_type": "markdown",
      "source": [
        "# Training"
      ],
      "metadata": {
        "id": "IDZ_iNjZhDsX"
      }
    },
    {
      "cell_type": "code",
      "source": [
        "if MODEL == \"RNN\":\n",
        "  OUTPUTS = y.shape[1]\n",
        "\n",
        "  def create_deep_model(factor, rate):\n",
        "      model = Sequential()      \n",
        "      model.add(Dense(units=LAYERS[0],kernel_regularizer=l2(factor), \n",
        "        activation='relu')), Dropout(rate),\n",
        "      model.add(Dense(units=LAYERS[1],kernel_regularizer=l2(factor),\n",
        "        activation='relu')), Dropout(rate),\n",
        "      model.add(Dense(units=LAYERS[2],kernel_regularizer=l2(factor),\n",
        "        activation='relu')), Dropout(rate),\n",
        "      #Output layer\n",
        "      model.add(Dense(units=OUTPUTS, activation='softmax'))\n",
        "      return model\n",
        "  model= create_deep_model(factor=L2_FACTOR, rate=DROP)\n",
        "\n",
        "  opt=tf.keras.optimizers.Adam(learning_rate=LR)\n",
        "  model.compile(loss='categorical_crossentropy', optimizer=opt,   \n",
        "  metrics=['accuracy'])"
      ],
      "metadata": {
        "id": "BE6OhtLQFmjA"
      },
      "execution_count": 15,
      "outputs": []
    },
    {
      "cell_type": "code",
      "source": [
        "X_train, X_test, y_train, y_test = train_test_split(X, y, test_size=TEST_SIZE, shuffle= True)\n",
        "X_train, X_val, y_train, y_val = train_test_split(X_train, y_train, test_size=VAL_SIZE, shuffle= True)\n",
        "\n",
        "if MODEL == \"SVC\":\n",
        "  from sklearn import svm\n",
        "  #fit the model\n",
        "  model = svm.SVC(kernel=KERNEL, degree=DEGREE, gamma=GAMMA, coef0=C)\n",
        "  model.fit(X_train, y_train)\n",
        "\n",
        "if MODEL == \"RNN\":\n",
        "  #fit the model\n",
        "  history=model.fit(x=X_train, y=y_train, batch_size=BATCH_SIZE, epochs=EPOCHS, validation_data=(X_val, y_val), verbose=1)\n",
        "\n",
        "if MODEL ==\"BERT\":\n",
        "\n",
        "  input = tf.keras.layers.Input(shape=(X_test.shape[-1]))\n",
        "  drop = tf.keras.layers.Dropout(DROP, name=\"dropout\")(input)\n",
        "  output = tf.keras.layers.Dense(2, activation='relu', name=\"output\")(drop)\n",
        "  model = tf.keras.Model(inputs=[input], outputs = [output])\n",
        "  \n",
        "  opt=tf.keras.optimizers.Adam(learning_rate=LR)\n",
        "  model.compile(loss='binary_crossentropy', optimizer=opt,   \n",
        "  metrics=['accuracy'])\n",
        "  history=model.fit(x=X_train, y=y_train, batch_size=BATCH_SIZE, epochs=EPOCHS, validation_data=(X_val, y_val), verbose=1)"
      ],
      "metadata": {
        "id": "sLNaOd51Qzmy"
      },
      "execution_count": 16,
      "outputs": []
    },
    {
      "cell_type": "markdown",
      "source": [
        "# Evaluation"
      ],
      "metadata": {
        "id": "5uEoy4yPhIG3"
      }
    },
    {
      "cell_type": "code",
      "source": [
        "if MODEL == \"RNN\":\n",
        "  y_test=y_test.values\n",
        "  y_test=np.argmax(y_test, axis=1)\n",
        "  y_pred = np.argmax(model.predict(X_test), axis=-1)\n",
        "  from sklearn.metrics import classification_report\n",
        "  print(classification_report(y_test, y_pred, zero_division=0, target_names=df_new.columns[1:]))\n",
        "\n",
        "if MODEL == \"SVC\":\n",
        "  y_test=y_test.values\n",
        "  #y_test=np.argmax(y_test, axis=1)\n",
        "  y_pred = model.predict(X_test)\n",
        "  from sklearn.metrics import classification_report\n",
        "  print(classification_report(y_test, y_pred, zero_division=0, target_names=df_new.columns[1:]))\n",
        "\n",
        "if MODEL ==\"BERT\":\n",
        "\n",
        "  y_test= y_test.values\n",
        "  y_test=np.argmax(y_test, axis=1)\n",
        "  y_pred = np.argmax(model.predict(X_test), axis=-1)\n",
        "  from sklearn.metrics import classification_report\n",
        "  print(classification_report(y_test, y_pred, zero_division=0, target_names=df_new.columns[1:]))"
      ],
      "metadata": {
        "colab": {
          "base_uri": "https://localhost:8080/"
        },
        "id": "o5AmJXXDFukb",
        "outputId": "33dff1b7-f3e4-476d-b917-2776885885b4"
      },
      "execution_count": 17,
      "outputs": [
        {
          "output_type": "stream",
          "name": "stdout",
          "text": [
            "              precision    recall  f1-score   support\n",
            "\n",
            "        conc       1.00      0.94      0.97        36\n",
            "        prem       0.99      1.00      0.99       196\n",
            "\n",
            "    accuracy                           0.99       232\n",
            "   macro avg       0.99      0.97      0.98       232\n",
            "weighted avg       0.99      0.99      0.99       232\n",
            "\n"
          ]
        }
      ]
    },
    {
      "cell_type": "code",
      "source": [
        "y_pred"
      ],
      "metadata": {
        "colab": {
          "base_uri": "https://localhost:8080/"
        },
        "id": "wBvX3YXmAXmb",
        "outputId": "785b32f8-06da-40e0-cdcf-87c5fcf7a6b6"
      },
      "execution_count": 18,
      "outputs": [
        {
          "output_type": "execute_result",
          "data": {
            "text/plain": [
              "array([0, 1, 0, 1, 1, 1, 1, 0, 1, 0, 1, 1, 1, 1, 0, 1, 1, 1, 0, 1, 1, 1,\n",
              "       1, 1, 1, 1, 1, 1, 1, 1, 1, 1, 1, 1, 1, 1, 0, 1, 1, 1, 1, 1, 1, 1,\n",
              "       1, 1, 1, 1, 0, 1, 1, 1, 0, 1, 1, 1, 1, 1, 1, 1, 1, 1, 1, 1, 1, 1,\n",
              "       1, 1, 1, 1, 1, 0, 1, 1, 1, 1, 1, 1, 1, 1, 1, 1, 1, 1, 1, 0, 1, 1,\n",
              "       1, 1, 1, 1, 0, 1, 1, 0, 1, 1, 1, 1, 1, 1, 1, 1, 1, 0, 1, 1, 1, 1,\n",
              "       1, 1, 1, 1, 1, 1, 1, 1, 1, 1, 1, 1, 1, 0, 1, 1, 1, 1, 1, 1, 1, 1,\n",
              "       1, 0, 0, 0, 1, 1, 1, 0, 1, 0, 1, 0, 1, 1, 1, 1, 1, 1, 1, 1, 1, 1,\n",
              "       0, 1, 1, 1, 1, 1, 1, 1, 1, 0, 0, 1, 1, 1, 0, 0, 1, 1, 1, 1, 1, 1,\n",
              "       0, 1, 1, 1, 1, 1, 1, 1, 1, 1, 1, 1, 1, 1, 1, 1, 1, 1, 0, 0, 1, 1,\n",
              "       1, 1, 1, 1, 1, 1, 1, 1, 1, 1, 1, 1, 0, 1, 1, 1, 1, 0, 1, 1, 1, 1,\n",
              "       0, 1, 1, 0, 1, 1, 1, 1, 1, 0, 1, 1])"
            ]
          },
          "metadata": {},
          "execution_count": 18
        }
      ]
    },
    {
      "cell_type": "markdown",
      "source": [
        "Saving of test parameters and results on file:"
      ],
      "metadata": {
        "id": "6QZmB18OhPzA"
      }
    },
    {
      "cell_type": "code",
      "source": [
        "with open(\"prem_conc_classification_results.txt\", \"a\") as f:\n",
        "    f.write(\"MODEL: \" + MODEL + \"\\n\")\n",
        "    f.write(\"EMBEDDING: \" + EMBEDDING  + \"\\n\")\n",
        "    f.write(\"\\n\")\n",
        "\n",
        "    f.write(\"DATASET:\\n\")\n",
        "    f.write(str(DATASET[\"Name\"].value_counts()))\n",
        "    f.write(\"\\n\\n\")\n",
        "    f.write(\"NUMBER OF SAMPLES: \" + str(len(X)) + \"\\n\")\n",
        "    f.write(\"TEST_SIZE: \" + str(TEST_SIZE*100) + \"%\\n\")\n",
        "    f.write(\"\\n\")\n",
        "\n",
        "    f.write(\"PARAMETERS:\\n\")\n",
        "\n",
        "    if MODEL == \"RNN\":\n",
        "      f.write(\"EPOCHS: \" + str(EPOCHS) + \"\\n\")\n",
        "      f.write(\"BATCH_SIZE: \" + str(BATCH_SIZE) + \"\\n\")\n",
        "      f.write(\"LAYERS: \" + str(LAYERS) + \"\\n\")\n",
        "      f.write(\"LR: \" + str(LR) + \"\\n\")\n",
        "      f.write(\"L2_FACTOR: \" + str(L2_FACTOR) + \"\\n\")\n",
        "      f.write(\"DROP: \" + str(DROP) + \"\\n\")\n",
        "      f.write(\"\\n\")\n",
        "\n",
        "    if MODEL == \"BERT\":\n",
        "      f.write(\"EPOCHS: \" + str(EPOCHS) + \"\\n\")\n",
        "      f.write(\"BATCH_SIZE: \" + str(BATCH_SIZE) + \"\\n\")\n",
        "      f.write(\"LR: \" + str(LR) + \"\\n\")\n",
        "      f.write(\"DROP: \" + str(DROP) + \"\\n\")\n",
        "      f.write(\"\\n\")\n",
        "\n",
        "    if MODEL == \"SVC\":\n",
        "      f.write(\"KERNEL: \" + str(KERNEL) + \"\\n\")\n",
        "      f.write(\"GAMMA: \" + str(GAMMA) + \"\\n\")\n",
        "      f.write(\"C: \" + str(C) + \"\\n\")\n",
        "      f.write(\"DEGREE: \" + str(DEGREE) + \"\\n\")\n",
        "      f.write(\"\\n\")\n",
        "\n",
        "    f.write(\"RESULTS:\\n\")\n",
        "    f.write(classification_report(y_test, y_pred, zero_division=0, target_names=df_new.columns[1:])+\"\\n\")\n",
        "\n",
        "    f.write(\"\\n\")\n",
        "    f.write(\"#######################################################\")\n",
        "    f.write(\"\\n\\n\")\n",
        "    \n",
        "\n"
      ],
      "metadata": {
        "id": "j42GWcqXZjVG"
      },
      "execution_count": 19,
      "outputs": []
    }
  ]
}