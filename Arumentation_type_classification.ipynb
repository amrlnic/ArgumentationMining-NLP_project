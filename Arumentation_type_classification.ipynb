{
  "nbformat": 4,
  "nbformat_minor": 0,
  "metadata": {
    "colab": {
      "name": "Arumentation_type_classification.ipynb",
      "provenance": [],
      "collapsed_sections": []
    },
    "kernelspec": {
      "name": "python3",
      "display_name": "Python 3"
    },
    "language_info": {
      "name": "python"
    }
  },
  "cells": [
    {
      "cell_type": "markdown",
      "source": [
        "# Task for the identification of argumentative sentence types"
      ],
      "metadata": {
        "id": "sL28VxkSiFAa"
      }
    },
    {
      "cell_type": "markdown",
      "source": [
        "Files needed to run the notebook:\n",
        "\n",
        "- The pickle file *dataset.pkl*; "
      ],
      "metadata": {
        "id": "MfiwTd3Wn5Lg"
      }
    },
    {
      "cell_type": "markdown",
      "source": [
        "Import libraries:"
      ],
      "metadata": {
        "id": "ZGCVnxokoXQG"
      }
    },
    {
      "cell_type": "code",
      "source": [
        "import pickle as pkl\n",
        "import pandas as pd\n",
        "import seaborn as sns\n",
        "import matplotlib.pyplot as plt\n",
        "import tensorflow as tf\n",
        "import os\n",
        "import json\n",
        "import numpy as np\n",
        "\n",
        "from sentence_transformers import SentenceTransformer\n",
        "from sklearn.feature_extraction.text import CountVectorizer\n",
        "from sklearn.feature_extraction.text import TfidfTransformer\n",
        "from sklearn.model_selection import train_test_split\n",
        "\n",
        "from tensorflow.keras.models import Sequential\n",
        "from tensorflow.keras.layers import Dense, Activation, Dropout\n",
        "from tensorflow.keras.regularizers import l2\n",
        "\n",
        "from yellowbrick.text import FreqDistVisualizer\n"
      ],
      "metadata": {
        "id": "HyoTnNb6Ce9v"
      },
      "execution_count": 1,
      "outputs": []
    },
    {
      "cell_type": "code",
      "execution_count": 2,
      "metadata": {
        "id": "xeO3TDhtn3BT"
      },
      "outputs": [],
      "source": [
        "df = pd.read_pickle(\"./dataset.pkl\")  "
      ]
    },
    {
      "cell_type": "code",
      "source": [
        "df.head()"
      ],
      "metadata": {
        "colab": {
          "base_uri": "https://localhost:8080/",
          "height": 617
        },
        "id": "E_mgQNyFpL8T",
        "outputId": "f78daa39-5a86-480d-ed01-6e5e899d5c96"
      },
      "execution_count": 3,
      "outputs": [
        {
          "output_type": "execute_result",
          "data": {
            "text/plain": [
              "  Document  Name  Id                                           Sentence Type  \\\n",
              "2     2004  prem  A3  respect borne mind pursuant Article 58 Statute...    L   \n",
              "3     2004  prem  A4  Advocate General states point 20 Opinion Commi...    F   \n",
              "5     2004  prem  A6  Regarding Wam’s argument Commission’s appeal i...  L|F   \n",
              "6     2004  prem  A7  Appeals judgments Court First Instance governe...    L   \n",
              "7     2004  prem  A8  Next must noted obligation provide statement r...    L   \n",
              "\n",
              "  Supported_by Supported_from_failure Attacked_by Inhibited_by Rephrased_by  \\\n",
              "2          NaN                    NaN         NaN          NaN          NaN   \n",
              "3          NaN                    NaN         NaN          NaN          NaN   \n",
              "5          NaN                    NaN         NaN          NaN          NaN   \n",
              "6          NaN                    NaN         NaN          NaN          NaN   \n",
              "7          NaN                    NaN         NaN          NaN          NaN   \n",
              "\n",
              "  Argumentation_scheme  \n",
              "2                 Rule  \n",
              "3                  Aut  \n",
              "5                 Rule  \n",
              "6                 Rule  \n",
              "7                 Prec  "
            ],
            "text/html": [
              "\n",
              "  <div id=\"df-78092a5b-bce2-4033-80da-de21cf278bf7\">\n",
              "    <div class=\"colab-df-container\">\n",
              "      <div>\n",
              "<style scoped>\n",
              "    .dataframe tbody tr th:only-of-type {\n",
              "        vertical-align: middle;\n",
              "    }\n",
              "\n",
              "    .dataframe tbody tr th {\n",
              "        vertical-align: top;\n",
              "    }\n",
              "\n",
              "    .dataframe thead th {\n",
              "        text-align: right;\n",
              "    }\n",
              "</style>\n",
              "<table border=\"1\" class=\"dataframe\">\n",
              "  <thead>\n",
              "    <tr style=\"text-align: right;\">\n",
              "      <th></th>\n",
              "      <th>Document</th>\n",
              "      <th>Name</th>\n",
              "      <th>Id</th>\n",
              "      <th>Sentence</th>\n",
              "      <th>Type</th>\n",
              "      <th>Supported_by</th>\n",
              "      <th>Supported_from_failure</th>\n",
              "      <th>Attacked_by</th>\n",
              "      <th>Inhibited_by</th>\n",
              "      <th>Rephrased_by</th>\n",
              "      <th>Argumentation_scheme</th>\n",
              "    </tr>\n",
              "  </thead>\n",
              "  <tbody>\n",
              "    <tr>\n",
              "      <th>2</th>\n",
              "      <td>2004</td>\n",
              "      <td>prem</td>\n",
              "      <td>A3</td>\n",
              "      <td>respect borne mind pursuant Article 58 Statute...</td>\n",
              "      <td>L</td>\n",
              "      <td>NaN</td>\n",
              "      <td>NaN</td>\n",
              "      <td>NaN</td>\n",
              "      <td>NaN</td>\n",
              "      <td>NaN</td>\n",
              "      <td>Rule</td>\n",
              "    </tr>\n",
              "    <tr>\n",
              "      <th>3</th>\n",
              "      <td>2004</td>\n",
              "      <td>prem</td>\n",
              "      <td>A4</td>\n",
              "      <td>Advocate General states point 20 Opinion Commi...</td>\n",
              "      <td>F</td>\n",
              "      <td>NaN</td>\n",
              "      <td>NaN</td>\n",
              "      <td>NaN</td>\n",
              "      <td>NaN</td>\n",
              "      <td>NaN</td>\n",
              "      <td>Aut</td>\n",
              "    </tr>\n",
              "    <tr>\n",
              "      <th>5</th>\n",
              "      <td>2004</td>\n",
              "      <td>prem</td>\n",
              "      <td>A6</td>\n",
              "      <td>Regarding Wam’s argument Commission’s appeal i...</td>\n",
              "      <td>L|F</td>\n",
              "      <td>NaN</td>\n",
              "      <td>NaN</td>\n",
              "      <td>NaN</td>\n",
              "      <td>NaN</td>\n",
              "      <td>NaN</td>\n",
              "      <td>Rule</td>\n",
              "    </tr>\n",
              "    <tr>\n",
              "      <th>6</th>\n",
              "      <td>2004</td>\n",
              "      <td>prem</td>\n",
              "      <td>A7</td>\n",
              "      <td>Appeals judgments Court First Instance governe...</td>\n",
              "      <td>L</td>\n",
              "      <td>NaN</td>\n",
              "      <td>NaN</td>\n",
              "      <td>NaN</td>\n",
              "      <td>NaN</td>\n",
              "      <td>NaN</td>\n",
              "      <td>Rule</td>\n",
              "    </tr>\n",
              "    <tr>\n",
              "      <th>7</th>\n",
              "      <td>2004</td>\n",
              "      <td>prem</td>\n",
              "      <td>A8</td>\n",
              "      <td>Next must noted obligation provide statement r...</td>\n",
              "      <td>L</td>\n",
              "      <td>NaN</td>\n",
              "      <td>NaN</td>\n",
              "      <td>NaN</td>\n",
              "      <td>NaN</td>\n",
              "      <td>NaN</td>\n",
              "      <td>Prec</td>\n",
              "    </tr>\n",
              "  </tbody>\n",
              "</table>\n",
              "</div>\n",
              "      <button class=\"colab-df-convert\" onclick=\"convertToInteractive('df-78092a5b-bce2-4033-80da-de21cf278bf7')\"\n",
              "              title=\"Convert this dataframe to an interactive table.\"\n",
              "              style=\"display:none;\">\n",
              "        \n",
              "  <svg xmlns=\"http://www.w3.org/2000/svg\" height=\"24px\"viewBox=\"0 0 24 24\"\n",
              "       width=\"24px\">\n",
              "    <path d=\"M0 0h24v24H0V0z\" fill=\"none\"/>\n",
              "    <path d=\"M18.56 5.44l.94 2.06.94-2.06 2.06-.94-2.06-.94-.94-2.06-.94 2.06-2.06.94zm-11 1L8.5 8.5l.94-2.06 2.06-.94-2.06-.94L8.5 2.5l-.94 2.06-2.06.94zm10 10l.94 2.06.94-2.06 2.06-.94-2.06-.94-.94-2.06-.94 2.06-2.06.94z\"/><path d=\"M17.41 7.96l-1.37-1.37c-.4-.4-.92-.59-1.43-.59-.52 0-1.04.2-1.43.59L10.3 9.45l-7.72 7.72c-.78.78-.78 2.05 0 2.83L4 21.41c.39.39.9.59 1.41.59.51 0 1.02-.2 1.41-.59l7.78-7.78 2.81-2.81c.8-.78.8-2.07 0-2.86zM5.41 20L4 18.59l7.72-7.72 1.47 1.35L5.41 20z\"/>\n",
              "  </svg>\n",
              "      </button>\n",
              "      \n",
              "  <style>\n",
              "    .colab-df-container {\n",
              "      display:flex;\n",
              "      flex-wrap:wrap;\n",
              "      gap: 12px;\n",
              "    }\n",
              "\n",
              "    .colab-df-convert {\n",
              "      background-color: #E8F0FE;\n",
              "      border: none;\n",
              "      border-radius: 50%;\n",
              "      cursor: pointer;\n",
              "      display: none;\n",
              "      fill: #1967D2;\n",
              "      height: 32px;\n",
              "      padding: 0 0 0 0;\n",
              "      width: 32px;\n",
              "    }\n",
              "\n",
              "    .colab-df-convert:hover {\n",
              "      background-color: #E2EBFA;\n",
              "      box-shadow: 0px 1px 2px rgba(60, 64, 67, 0.3), 0px 1px 3px 1px rgba(60, 64, 67, 0.15);\n",
              "      fill: #174EA6;\n",
              "    }\n",
              "\n",
              "    [theme=dark] .colab-df-convert {\n",
              "      background-color: #3B4455;\n",
              "      fill: #D2E3FC;\n",
              "    }\n",
              "\n",
              "    [theme=dark] .colab-df-convert:hover {\n",
              "      background-color: #434B5C;\n",
              "      box-shadow: 0px 1px 3px 1px rgba(0, 0, 0, 0.15);\n",
              "      filter: drop-shadow(0px 1px 2px rgba(0, 0, 0, 0.3));\n",
              "      fill: #FFFFFF;\n",
              "    }\n",
              "  </style>\n",
              "\n",
              "      <script>\n",
              "        const buttonEl =\n",
              "          document.querySelector('#df-78092a5b-bce2-4033-80da-de21cf278bf7 button.colab-df-convert');\n",
              "        buttonEl.style.display =\n",
              "          google.colab.kernel.accessAllowed ? 'block' : 'none';\n",
              "\n",
              "        async function convertToInteractive(key) {\n",
              "          const element = document.querySelector('#df-78092a5b-bce2-4033-80da-de21cf278bf7');\n",
              "          const dataTable =\n",
              "            await google.colab.kernel.invokeFunction('convertToInteractive',\n",
              "                                                     [key], {});\n",
              "          if (!dataTable) return;\n",
              "\n",
              "          const docLinkHtml = 'Like what you see? Visit the ' +\n",
              "            '<a target=\"_blank\" href=https://colab.research.google.com/notebooks/data_table.ipynb>data table notebook</a>'\n",
              "            + ' to learn more about interactive tables.';\n",
              "          element.innerHTML = '';\n",
              "          dataTable['output_type'] = 'display_data';\n",
              "          await google.colab.output.renderOutput(dataTable, element);\n",
              "          const docLink = document.createElement('div');\n",
              "          docLink.innerHTML = docLinkHtml;\n",
              "          element.appendChild(docLink);\n",
              "        }\n",
              "      </script>\n",
              "    </div>\n",
              "  </div>\n",
              "  "
            ]
          },
          "metadata": {},
          "execution_count": 3
        }
      ]
    },
    {
      "cell_type": "code",
      "source": [
        "df[\"Argumentation_scheme\"].values[0]"
      ],
      "metadata": {
        "colab": {
          "base_uri": "https://localhost:8080/",
          "height": 35
        },
        "id": "zbJEJDGcih55",
        "outputId": "89c7ec94-239e-4607-a642-c7d8a5d41cb9"
      },
      "execution_count": 4,
      "outputs": [
        {
          "output_type": "execute_result",
          "data": {
            "text/plain": [
              "'Rule'"
            ],
            "application/vnd.google.colaboratory.intrinsic+json": {
              "type": "string"
            }
          },
          "metadata": {},
          "execution_count": 4
        }
      ]
    },
    {
      "cell_type": "code",
      "source": [
        "df[\"Argumentation_scheme\"].value_counts()"
      ],
      "metadata": {
        "colab": {
          "base_uri": "https://localhost:8080/"
        },
        "id": "g4v0aC-cC53Z",
        "outputId": "0f57c6ea-c343-4129-e5b6-441b11096390"
      },
      "execution_count": 5,
      "outputs": [
        {
          "output_type": "execute_result",
          "data": {
            "text/plain": [
              "Prec                  279\n",
              "Itpr                   95\n",
              "Princ                  64\n",
              "Rule                   61\n",
              "Prec|Rule              35\n",
              "Itpr|Prec              22\n",
              "Aut                    21\n",
              "Class|Prec|Rule         9\n",
              "Tele                    8\n",
              "Class                   7\n",
              "Class|Prec              5\n",
              "Aut|Itpr                5\n",
              "Prec|Tele               5\n",
              "Itpr|Tele               4\n",
              "Rule|Syst               3\n",
              "Itpr|Rule               3\n",
              "Prec|Syst               3\n",
              "Syst                    3\n",
              "Princ|Rule              2\n",
              "Psy|Tele                2\n",
              "Lit|Rule                2\n",
              "Lit|Prec                2\n",
              "Prec|Psy|Rule|Tele      1\n",
              "Princ|Tele              1\n",
              "Itpr|Syst               1\n",
              "Itpr|Psy                1\n",
              "Itpr|Lit                1\n",
              "Aut|Prec|Princ          1\n",
              "Princ|Psy|Syst          1\n",
              "Itpr|Princ|Syst         1\n",
              "Lit|Rule|Syst           1\n",
              "Syst|Tele               1\n",
              "Aut|Class               1\n",
              "Lit|Rule|Tele           1\n",
              "Aut|Itpr|Prec           1\n",
              "Prec|Psy                1\n",
              "Aut|Rule                1\n",
              "Aut|Syst                1\n",
              "Lit                     1\n",
              "Prec|Princ              1\n",
              "Psy|Rule                1\n",
              "Aut|Prec                1\n",
              "Class|Rule              1\n",
              "Rule|Tele               1\n",
              "Itpr|Prec|Rule          1\n",
              "Name: Argumentation_scheme, dtype: int64"
            ]
          },
          "metadata": {},
          "execution_count": 5
        }
      ]
    },
    {
      "cell_type": "code",
      "source": [
        "value_counts = df['Argumentation_scheme'].value_counts() # Specific column \n",
        "df_truncated60 = df[df['Argumentation_scheme'].isin(value_counts[value_counts > 60].index)]\n",
        "df_truncated20 = df[df['Argumentation_scheme'].isin(value_counts[value_counts > 20].index)]"
      ],
      "metadata": {
        "id": "AkPsGUh9NzVU"
      },
      "execution_count": 6,
      "outputs": []
    },
    {
      "cell_type": "code",
      "source": [
        "df_truncated60['Argumentation_scheme'].value_counts()"
      ],
      "metadata": {
        "colab": {
          "base_uri": "https://localhost:8080/"
        },
        "id": "52TOc7cLN0ND",
        "outputId": "60f5bc5b-7f07-438a-9ee0-45653e4651bf"
      },
      "execution_count": 7,
      "outputs": [
        {
          "output_type": "execute_result",
          "data": {
            "text/plain": [
              "Prec     279\n",
              "Itpr      95\n",
              "Princ     64\n",
              "Rule      61\n",
              "Name: Argumentation_scheme, dtype: int64"
            ]
          },
          "metadata": {},
          "execution_count": 7
        }
      ]
    },
    {
      "cell_type": "code",
      "source": [
        "df_truncated20['Argumentation_scheme'].value_counts()"
      ],
      "metadata": {
        "colab": {
          "base_uri": "https://localhost:8080/"
        },
        "id": "gYQ87vX5jH-a",
        "outputId": "3268973e-d0f3-4a7f-e952-1cb2e81c1147"
      },
      "execution_count": 8,
      "outputs": [
        {
          "output_type": "execute_result",
          "data": {
            "text/plain": [
              "Prec         279\n",
              "Itpr          95\n",
              "Princ         64\n",
              "Rule          61\n",
              "Prec|Rule     35\n",
              "Itpr|Prec     22\n",
              "Aut           21\n",
              "Name: Argumentation_scheme, dtype: int64"
            ]
          },
          "metadata": {},
          "execution_count": 8
        }
      ]
    },
    {
      "cell_type": "code",
      "source": [
        "df_balanced = pd.concat([df[df[\"Argumentation_scheme\"] == \"Prec\"].sample(61),\n",
        "                    df[df[\"Argumentation_scheme\"] == \"Itpr\"].sample(61),\n",
        "                    df[df[\"Argumentation_scheme\"] == \"Princ\"].sample(61),\n",
        "                    df[df[\"Argumentation_scheme\"] == \"Rule\"]\n",
        "                    ])"
      ],
      "metadata": {
        "id": "cg5TNB0xDB3I"
      },
      "execution_count": 9,
      "outputs": []
    },
    {
      "cell_type": "code",
      "source": [
        "df_balanced[\"Argumentation_scheme\"].value_counts()"
      ],
      "metadata": {
        "colab": {
          "base_uri": "https://localhost:8080/"
        },
        "id": "ND7BsHfKDdXD",
        "outputId": "ad94f8a7-d524-4820-b996-8eb3fa977cec"
      },
      "execution_count": 10,
      "outputs": [
        {
          "output_type": "execute_result",
          "data": {
            "text/plain": [
              "Prec     61\n",
              "Itpr     61\n",
              "Princ    61\n",
              "Rule     61\n",
              "Name: Argumentation_scheme, dtype: int64"
            ]
          },
          "metadata": {},
          "execution_count": 10
        }
      ]
    },
    {
      "cell_type": "markdown",
      "source": [
        "Choice of parameters:"
      ],
      "metadata": {
        "id": "JIZ4EXFsgyL9"
      }
    },
    {
      "cell_type": "code",
      "source": [
        "# EMBEDDINGS (uncomment the chosen one)\n",
        "# EMBEDDING = \"bert_sentence\"\n",
        "EMBEDDING = \"legal_bert_sentence\"\n",
        "# EMBEDDING = \"tfidf\"\n",
        "\n",
        "# MODELS (uncomment the chosen one)\n",
        "# MODEL = \"SVC\"\n",
        "MODEL = \"RNN\"\n",
        "# MODEL = \"BERT\"\n",
        "\n",
        "# DATASET (uncomment the chosen one)\n",
        "#DATASET = df (It does not work due to classes with single elements)\n",
        "DATASET = df_truncated60\n",
        "# DATASET = df_truncated20\n",
        "# DATASET = df_balanced\n",
        "\n",
        "TEST_SIZE = 0.15\n",
        "VAL_SIZE = 0.2  # percentage taken from the train subset\n",
        "\n",
        "# MODEL PARAMETERS\n",
        "\n",
        "# RNN & BERT\n",
        "EPOCHS = 140\n",
        "BATCH_SIZE = 64\n",
        "LR = 0.001\n",
        "DROP = 0.3\n",
        "\n",
        "# ONLY RNN PARAMETERS\n",
        "L2_FACTOR = 0.001\n",
        "LAYERS = [256, 128, 64] # 3 layers\n",
        "\n",
        "\n",
        "# SVC\n",
        "KERNEL = \"poly\" #{linear, poly, rbf, sigmoid’} \n",
        "GAMMA = 0.01\n",
        "C =0.01\n",
        "DEGREE = 5 # only for kernel \"poly\""
      ],
      "metadata": {
        "id": "RrzDOKDtjW5h"
      },
      "execution_count": 11,
      "outputs": []
    },
    {
      "cell_type": "code",
      "source": [
        "scheme_one_hot = pd.get_dummies(DATASET['Argumentation_scheme'])\n",
        "\n",
        "df_new = pd.concat([DATASET['Sentence'],scheme_one_hot],axis=1)"
      ],
      "metadata": {
        "id": "jwDWRMdPD0-Q"
      },
      "execution_count": 12,
      "outputs": []
    },
    {
      "cell_type": "code",
      "source": [
        "df_new.head()"
      ],
      "metadata": {
        "colab": {
          "base_uri": "https://localhost:8080/",
          "height": 206
        },
        "id": "qPHEb3rIFYBY",
        "outputId": "9fe590c3-f676-4fa0-f5f4-9cfb2d85f82a"
      },
      "execution_count": 13,
      "outputs": [
        {
          "output_type": "execute_result",
          "data": {
            "text/plain": [
              "                                             Sentence  Itpr  Prec  Princ  Rule\n",
              "2   respect borne mind pursuant Article 58 Statute...     0     0      0     1\n",
              "5   Regarding Wam’s argument Commission’s appeal i...     0     0      0     1\n",
              "6   Appeals judgments Court First Instance governe...     0     0      0     1\n",
              "7   Next must noted obligation provide statement r...     0     1      0     0\n",
              "11  According settled caselaw statement reasons re...     0     1      0     0"
            ],
            "text/html": [
              "\n",
              "  <div id=\"df-e7d202ed-20d4-4455-a1c4-7ec53e2b59de\">\n",
              "    <div class=\"colab-df-container\">\n",
              "      <div>\n",
              "<style scoped>\n",
              "    .dataframe tbody tr th:only-of-type {\n",
              "        vertical-align: middle;\n",
              "    }\n",
              "\n",
              "    .dataframe tbody tr th {\n",
              "        vertical-align: top;\n",
              "    }\n",
              "\n",
              "    .dataframe thead th {\n",
              "        text-align: right;\n",
              "    }\n",
              "</style>\n",
              "<table border=\"1\" class=\"dataframe\">\n",
              "  <thead>\n",
              "    <tr style=\"text-align: right;\">\n",
              "      <th></th>\n",
              "      <th>Sentence</th>\n",
              "      <th>Itpr</th>\n",
              "      <th>Prec</th>\n",
              "      <th>Princ</th>\n",
              "      <th>Rule</th>\n",
              "    </tr>\n",
              "  </thead>\n",
              "  <tbody>\n",
              "    <tr>\n",
              "      <th>2</th>\n",
              "      <td>respect borne mind pursuant Article 58 Statute...</td>\n",
              "      <td>0</td>\n",
              "      <td>0</td>\n",
              "      <td>0</td>\n",
              "      <td>1</td>\n",
              "    </tr>\n",
              "    <tr>\n",
              "      <th>5</th>\n",
              "      <td>Regarding Wam’s argument Commission’s appeal i...</td>\n",
              "      <td>0</td>\n",
              "      <td>0</td>\n",
              "      <td>0</td>\n",
              "      <td>1</td>\n",
              "    </tr>\n",
              "    <tr>\n",
              "      <th>6</th>\n",
              "      <td>Appeals judgments Court First Instance governe...</td>\n",
              "      <td>0</td>\n",
              "      <td>0</td>\n",
              "      <td>0</td>\n",
              "      <td>1</td>\n",
              "    </tr>\n",
              "    <tr>\n",
              "      <th>7</th>\n",
              "      <td>Next must noted obligation provide statement r...</td>\n",
              "      <td>0</td>\n",
              "      <td>1</td>\n",
              "      <td>0</td>\n",
              "      <td>0</td>\n",
              "    </tr>\n",
              "    <tr>\n",
              "      <th>11</th>\n",
              "      <td>According settled caselaw statement reasons re...</td>\n",
              "      <td>0</td>\n",
              "      <td>1</td>\n",
              "      <td>0</td>\n",
              "      <td>0</td>\n",
              "    </tr>\n",
              "  </tbody>\n",
              "</table>\n",
              "</div>\n",
              "      <button class=\"colab-df-convert\" onclick=\"convertToInteractive('df-e7d202ed-20d4-4455-a1c4-7ec53e2b59de')\"\n",
              "              title=\"Convert this dataframe to an interactive table.\"\n",
              "              style=\"display:none;\">\n",
              "        \n",
              "  <svg xmlns=\"http://www.w3.org/2000/svg\" height=\"24px\"viewBox=\"0 0 24 24\"\n",
              "       width=\"24px\">\n",
              "    <path d=\"M0 0h24v24H0V0z\" fill=\"none\"/>\n",
              "    <path d=\"M18.56 5.44l.94 2.06.94-2.06 2.06-.94-2.06-.94-.94-2.06-.94 2.06-2.06.94zm-11 1L8.5 8.5l.94-2.06 2.06-.94-2.06-.94L8.5 2.5l-.94 2.06-2.06.94zm10 10l.94 2.06.94-2.06 2.06-.94-2.06-.94-.94-2.06-.94 2.06-2.06.94z\"/><path d=\"M17.41 7.96l-1.37-1.37c-.4-.4-.92-.59-1.43-.59-.52 0-1.04.2-1.43.59L10.3 9.45l-7.72 7.72c-.78.78-.78 2.05 0 2.83L4 21.41c.39.39.9.59 1.41.59.51 0 1.02-.2 1.41-.59l7.78-7.78 2.81-2.81c.8-.78.8-2.07 0-2.86zM5.41 20L4 18.59l7.72-7.72 1.47 1.35L5.41 20z\"/>\n",
              "  </svg>\n",
              "      </button>\n",
              "      \n",
              "  <style>\n",
              "    .colab-df-container {\n",
              "      display:flex;\n",
              "      flex-wrap:wrap;\n",
              "      gap: 12px;\n",
              "    }\n",
              "\n",
              "    .colab-df-convert {\n",
              "      background-color: #E8F0FE;\n",
              "      border: none;\n",
              "      border-radius: 50%;\n",
              "      cursor: pointer;\n",
              "      display: none;\n",
              "      fill: #1967D2;\n",
              "      height: 32px;\n",
              "      padding: 0 0 0 0;\n",
              "      width: 32px;\n",
              "    }\n",
              "\n",
              "    .colab-df-convert:hover {\n",
              "      background-color: #E2EBFA;\n",
              "      box-shadow: 0px 1px 2px rgba(60, 64, 67, 0.3), 0px 1px 3px 1px rgba(60, 64, 67, 0.15);\n",
              "      fill: #174EA6;\n",
              "    }\n",
              "\n",
              "    [theme=dark] .colab-df-convert {\n",
              "      background-color: #3B4455;\n",
              "      fill: #D2E3FC;\n",
              "    }\n",
              "\n",
              "    [theme=dark] .colab-df-convert:hover {\n",
              "      background-color: #434B5C;\n",
              "      box-shadow: 0px 1px 3px 1px rgba(0, 0, 0, 0.15);\n",
              "      filter: drop-shadow(0px 1px 2px rgba(0, 0, 0, 0.3));\n",
              "      fill: #FFFFFF;\n",
              "    }\n",
              "  </style>\n",
              "\n",
              "      <script>\n",
              "        const buttonEl =\n",
              "          document.querySelector('#df-e7d202ed-20d4-4455-a1c4-7ec53e2b59de button.colab-df-convert');\n",
              "        buttonEl.style.display =\n",
              "          google.colab.kernel.accessAllowed ? 'block' : 'none';\n",
              "\n",
              "        async function convertToInteractive(key) {\n",
              "          const element = document.querySelector('#df-e7d202ed-20d4-4455-a1c4-7ec53e2b59de');\n",
              "          const dataTable =\n",
              "            await google.colab.kernel.invokeFunction('convertToInteractive',\n",
              "                                                     [key], {});\n",
              "          if (!dataTable) return;\n",
              "\n",
              "          const docLinkHtml = 'Like what you see? Visit the ' +\n",
              "            '<a target=\"_blank\" href=https://colab.research.google.com/notebooks/data_table.ipynb>data table notebook</a>'\n",
              "            + ' to learn more about interactive tables.';\n",
              "          element.innerHTML = '';\n",
              "          dataTable['output_type'] = 'display_data';\n",
              "          await google.colab.output.renderOutput(dataTable, element);\n",
              "          const docLink = document.createElement('div');\n",
              "          docLink.innerHTML = docLinkHtml;\n",
              "          element.appendChild(docLink);\n",
              "        }\n",
              "      </script>\n",
              "    </div>\n",
              "  </div>\n",
              "  "
            ]
          },
          "metadata": {},
          "execution_count": 13
        }
      ]
    },
    {
      "cell_type": "markdown",
      "source": [
        "# Embedding"
      ],
      "metadata": {
        "id": "OV-HtpmRjx7-"
      }
    },
    {
      "cell_type": "code",
      "source": [
        "if EMBEDDING == \"bert_sentence\" or EMBEDDING == \"legal_bert_sentence\":\n",
        "\n",
        "  if EMBEDDING == \"bert_sentence\":\n",
        "    sbert_model = SentenceTransformer('bert-base-nli-mean-tokens')\n",
        "  if EMBEDDING == \"legal_bert_sentence\":\n",
        "    sbert_model = SentenceTransformer(\"nlpaueb/legal-bert-small-uncased\")\n",
        "\n",
        "  sentence_embeddings = sbert_model.encode(df_new[\"Sentence\"].values)\n",
        "\n",
        "  X = sentence_embeddings\n",
        "  if MODEL == \"RNN\" or MODEL == \"BERT\":\n",
        "    y = scheme_one_hot\n",
        "  if MODEL == \"SVC\":\n",
        "    y = DATASET['Argumentation_scheme'].values"
      ],
      "metadata": {
        "colab": {
          "base_uri": "https://localhost:8080/"
        },
        "id": "KsUsgc7oj3aV",
        "outputId": "a398fe65-0973-4b8d-b7e5-bcec772cbea8"
      },
      "execution_count": 14,
      "outputs": [
        {
          "output_type": "stream",
          "name": "stderr",
          "text": [
            "WARNING:root:No sentence-transformers model found with name /root/.cache/torch/sentence_transformers/nlpaueb_legal-bert-small-uncased. Creating a new one with MEAN pooling.\n",
            "Some weights of the model checkpoint at /root/.cache/torch/sentence_transformers/nlpaueb_legal-bert-small-uncased were not used when initializing BertModel: ['cls.predictions.decoder.weight', 'cls.predictions.transform.dense.bias', 'cls.predictions.transform.LayerNorm.bias', 'cls.predictions.decoder.bias', 'cls.predictions.bias', 'cls.predictions.transform.dense.weight', 'cls.predictions.transform.LayerNorm.weight', 'cls.seq_relationship.bias', 'cls.seq_relationship.weight']\n",
            "- This IS expected if you are initializing BertModel from the checkpoint of a model trained on another task or with another architecture (e.g. initializing a BertForSequenceClassification model from a BertForPreTraining model).\n",
            "- This IS NOT expected if you are initializing BertModel from the checkpoint of a model that you expect to be exactly identical (initializing a BertForSequenceClassification model from a BertForSequenceClassification model).\n"
          ]
        }
      ]
    },
    {
      "cell_type": "code",
      "source": [
        "if EMBEDDING == \"tfidf\":\n",
        "  #Convert sentences into vectors \n",
        "  vectorizer = CountVectorizer()\n",
        "  X = vectorizer.fit_transform(df_new[\"Sentence\"].values)\n",
        "\n",
        "  if MODEL == \"RNN\":\n",
        "    y = scheme_one_hot\n",
        "  if MODEL == \"SVC\":\n",
        "    y = DATASET['Argumentation_scheme'].values\n",
        "\n",
        "  # Embeddings with tfidf\n",
        "  tfidf = TfidfTransformer()\n",
        "  X = tfidf.fit_transform(X)\n",
        "  X = X.toarray()"
      ],
      "metadata": {
        "id": "xOhx20Fzj6MU"
      },
      "execution_count": 15,
      "outputs": []
    },
    {
      "cell_type": "code",
      "source": [
        "print(\"EMBEDDING: \", EMBEDDING)\n",
        "print(\"SHAPE X: \", X.shape)\n",
        "print(\"SHAPE y: \", y.shape)"
      ],
      "metadata": {
        "colab": {
          "base_uri": "https://localhost:8080/"
        },
        "id": "x184U6bDj72i",
        "outputId": "c03d98fb-477a-412a-9737-ee3fadf2d3c2"
      },
      "execution_count": 16,
      "outputs": [
        {
          "output_type": "stream",
          "name": "stdout",
          "text": [
            "EMBEDDING:  legal_bert_sentence\n",
            "SHAPE X:  (499, 512)\n",
            "SHAPE y:  (499, 4)\n"
          ]
        }
      ]
    },
    {
      "cell_type": "code",
      "source": [
        "#Visualize word frequency\n",
        "if EMBEDDING == \"tfidf\":\n",
        "  features   = vectorizer.get_feature_names()\n",
        "  visualizer = FreqDistVisualizer(features=features, size=(800, 1000))\n",
        "  visualizer.fit(X)\n",
        "  visualizer.finalize()"
      ],
      "metadata": {
        "id": "6hlFL410FeF-"
      },
      "execution_count": 17,
      "outputs": []
    },
    {
      "cell_type": "markdown",
      "source": [
        "# Training"
      ],
      "metadata": {
        "id": "nVm1lyk4kC4j"
      }
    },
    {
      "cell_type": "code",
      "source": [
        "if MODEL == \"RNN\":\n",
        "  OUTPUTS = y.shape[1]\n",
        "\n",
        "  def create_deep_model(factor, rate):\n",
        "      model = Sequential()      \n",
        "      model.add(Dense(units=LAYERS[0],kernel_regularizer=l2(factor), \n",
        "        activation='relu')), Dropout(rate),\n",
        "      model.add(Dense(units=LAYERS[1],kernel_regularizer=l2(factor),\n",
        "        activation='relu')), Dropout(rate),\n",
        "      model.add(Dense(units=LAYERS[2],kernel_regularizer=l2(factor),\n",
        "        activation='relu')), Dropout(rate),\n",
        "      #Output layer\n",
        "      model.add(Dense(units=OUTPUTS, activation='softmax'))\n",
        "      return model\n",
        "  model= create_deep_model(factor=L2_FACTOR, rate=DROP)\n",
        "\n",
        "  opt=tf.keras.optimizers.Adam(learning_rate=LR)\n",
        "  model.compile(loss='categorical_crossentropy', optimizer=opt,   \n",
        "  metrics=['accuracy'])"
      ],
      "metadata": {
        "id": "BE6OhtLQFmjA"
      },
      "execution_count": 18,
      "outputs": []
    },
    {
      "cell_type": "code",
      "source": [
        "X_train, X_test, y_train, y_test = train_test_split(X, y, test_size=TEST_SIZE, shuffle= True)\n",
        "X_train, X_val, y_train, y_val = train_test_split(X_train, y_train, test_size=VAL_SIZE, shuffle= True)\n",
        "\n",
        "if MODEL == \"SVC\":\n",
        "  from sklearn import svm\n",
        "  #fit the model\n",
        "  model = svm.SVC(kernel=KERNEL, degree=DEGREE, gamma=GAMMA, coef0=C)\n",
        "  model.fit(X_train, y_train)\n",
        "\n",
        "if MODEL == \"RNN\":\n",
        "  #fit the model\n",
        "  history=model.fit(x=X_train, y=y_train, batch_size=BATCH_SIZE, epochs=EPOCHS, validation_data=(X_val, y_val), verbose=1)\n",
        "\n",
        "if MODEL ==\"BERT\":\n",
        "\n",
        "  input = tf.keras.layers.Input(shape=(X_train.shape[-1]))\n",
        "  drop = tf.keras.layers.Dropout(DROP, name=\"dropout\")(input)\n",
        "  output = tf.keras.layers.Dense(y_train.shape[-1], activation='sigmoid', name=\"output\")(drop)\n",
        "  model = tf.keras.Model(inputs=[input], outputs = [output])\n",
        "  \n",
        "  opt=tf.keras.optimizers.Adam(learning_rate=LR)\n",
        "  model.compile(loss='binary_crossentropy', optimizer=opt,   \n",
        "  metrics=['accuracy'])\n",
        "  history=model.fit(x=X_train, y=y_train, batch_size=BATCH_SIZE, epochs=EPOCHS, validation_data=(X_val, y_val), verbose=1)"
      ],
      "metadata": {
        "id": "2hMuzyxUFtDW",
        "colab": {
          "base_uri": "https://localhost:8080/"
        },
        "outputId": "89875c91-975b-4020-d7f2-9bb568527518"
      },
      "execution_count": 19,
      "outputs": [
        {
          "output_type": "stream",
          "name": "stdout",
          "text": [
            "Epoch 1/140\n",
            "6/6 [==============================] - 1s 53ms/step - loss: 1.8167 - accuracy: 0.4867 - val_loss: 1.6099 - val_accuracy: 0.5412\n",
            "Epoch 2/140\n",
            "6/6 [==============================] - 0s 15ms/step - loss: 1.5014 - accuracy: 0.6460 - val_loss: 1.4601 - val_accuracy: 0.5647\n",
            "Epoch 3/140\n",
            "6/6 [==============================] - 0s 9ms/step - loss: 1.2970 - accuracy: 0.6755 - val_loss: 1.3123 - val_accuracy: 0.6824\n",
            "Epoch 4/140\n",
            "6/6 [==============================] - 0s 13ms/step - loss: 1.1595 - accuracy: 0.7434 - val_loss: 1.2718 - val_accuracy: 0.7059\n",
            "Epoch 5/140\n",
            "6/6 [==============================] - 0s 10ms/step - loss: 1.0738 - accuracy: 0.8142 - val_loss: 1.3298 - val_accuracy: 0.6941\n",
            "Epoch 6/140\n",
            "6/6 [==============================] - 0s 10ms/step - loss: 0.9836 - accuracy: 0.7965 - val_loss: 1.1448 - val_accuracy: 0.7294\n",
            "Epoch 7/140\n",
            "6/6 [==============================] - 0s 9ms/step - loss: 0.9046 - accuracy: 0.8673 - val_loss: 1.1949 - val_accuracy: 0.7176\n",
            "Epoch 8/140\n",
            "6/6 [==============================] - 0s 10ms/step - loss: 0.8484 - accuracy: 0.8525 - val_loss: 1.1591 - val_accuracy: 0.7529\n",
            "Epoch 9/140\n",
            "6/6 [==============================] - 0s 11ms/step - loss: 0.7947 - accuracy: 0.8791 - val_loss: 1.1040 - val_accuracy: 0.7412\n",
            "Epoch 10/140\n",
            "6/6 [==============================] - 0s 11ms/step - loss: 0.7191 - accuracy: 0.9115 - val_loss: 1.1873 - val_accuracy: 0.7529\n",
            "Epoch 11/140\n",
            "6/6 [==============================] - 0s 12ms/step - loss: 0.6824 - accuracy: 0.9292 - val_loss: 1.1071 - val_accuracy: 0.7412\n",
            "Epoch 12/140\n",
            "6/6 [==============================] - 0s 10ms/step - loss: 0.6544 - accuracy: 0.9381 - val_loss: 1.1726 - val_accuracy: 0.7294\n",
            "Epoch 13/140\n",
            "6/6 [==============================] - 0s 13ms/step - loss: 0.6474 - accuracy: 0.9233 - val_loss: 1.2825 - val_accuracy: 0.7176\n",
            "Epoch 14/140\n",
            "6/6 [==============================] - 0s 11ms/step - loss: 0.6222 - accuracy: 0.9204 - val_loss: 1.1925 - val_accuracy: 0.7294\n",
            "Epoch 15/140\n",
            "6/6 [==============================] - 0s 12ms/step - loss: 0.5750 - accuracy: 0.9528 - val_loss: 1.0948 - val_accuracy: 0.7647\n",
            "Epoch 16/140\n",
            "6/6 [==============================] - 0s 11ms/step - loss: 0.5227 - accuracy: 0.9823 - val_loss: 1.1887 - val_accuracy: 0.7294\n",
            "Epoch 17/140\n",
            "6/6 [==============================] - 0s 10ms/step - loss: 0.4909 - accuracy: 0.9882 - val_loss: 1.2059 - val_accuracy: 0.7294\n",
            "Epoch 18/140\n",
            "6/6 [==============================] - 0s 11ms/step - loss: 0.4641 - accuracy: 0.9912 - val_loss: 1.1759 - val_accuracy: 0.7412\n",
            "Epoch 19/140\n",
            "6/6 [==============================] - 0s 16ms/step - loss: 0.4466 - accuracy: 0.9971 - val_loss: 1.1696 - val_accuracy: 0.7412\n",
            "Epoch 20/140\n",
            "6/6 [==============================] - 0s 11ms/step - loss: 0.4341 - accuracy: 0.9971 - val_loss: 1.3074 - val_accuracy: 0.7294\n",
            "Epoch 21/140\n",
            "6/6 [==============================] - 0s 12ms/step - loss: 0.4151 - accuracy: 1.0000 - val_loss: 1.2888 - val_accuracy: 0.7294\n",
            "Epoch 22/140\n",
            "6/6 [==============================] - 0s 11ms/step - loss: 0.4089 - accuracy: 0.9971 - val_loss: 1.1846 - val_accuracy: 0.7647\n",
            "Epoch 23/140\n",
            "6/6 [==============================] - 0s 10ms/step - loss: 0.4022 - accuracy: 1.0000 - val_loss: 1.5459 - val_accuracy: 0.7059\n",
            "Epoch 24/140\n",
            "6/6 [==============================] - 0s 11ms/step - loss: 0.3951 - accuracy: 1.0000 - val_loss: 1.2493 - val_accuracy: 0.7412\n",
            "Epoch 25/140\n",
            "6/6 [==============================] - 0s 13ms/step - loss: 0.3831 - accuracy: 1.0000 - val_loss: 1.3276 - val_accuracy: 0.7412\n",
            "Epoch 26/140\n",
            "6/6 [==============================] - 0s 11ms/step - loss: 0.3757 - accuracy: 1.0000 - val_loss: 1.3421 - val_accuracy: 0.7529\n",
            "Epoch 27/140\n",
            "6/6 [==============================] - 0s 11ms/step - loss: 0.3693 - accuracy: 1.0000 - val_loss: 1.3107 - val_accuracy: 0.7412\n",
            "Epoch 28/140\n",
            "6/6 [==============================] - 0s 11ms/step - loss: 0.3628 - accuracy: 1.0000 - val_loss: 1.3622 - val_accuracy: 0.7529\n",
            "Epoch 29/140\n",
            "6/6 [==============================] - 0s 10ms/step - loss: 0.3574 - accuracy: 1.0000 - val_loss: 1.3677 - val_accuracy: 0.7412\n",
            "Epoch 30/140\n",
            "6/6 [==============================] - 0s 10ms/step - loss: 0.3514 - accuracy: 1.0000 - val_loss: 1.3686 - val_accuracy: 0.7294\n",
            "Epoch 31/140\n",
            "6/6 [==============================] - 0s 12ms/step - loss: 0.3454 - accuracy: 1.0000 - val_loss: 1.3848 - val_accuracy: 0.7294\n",
            "Epoch 32/140\n",
            "6/6 [==============================] - 0s 10ms/step - loss: 0.3406 - accuracy: 1.0000 - val_loss: 1.3836 - val_accuracy: 0.7412\n",
            "Epoch 33/140\n",
            "6/6 [==============================] - 0s 13ms/step - loss: 0.3354 - accuracy: 1.0000 - val_loss: 1.3867 - val_accuracy: 0.7412\n",
            "Epoch 34/140\n",
            "6/6 [==============================] - 0s 14ms/step - loss: 0.3311 - accuracy: 1.0000 - val_loss: 1.4148 - val_accuracy: 0.7412\n",
            "Epoch 35/140\n",
            "6/6 [==============================] - 0s 11ms/step - loss: 0.3265 - accuracy: 1.0000 - val_loss: 1.3720 - val_accuracy: 0.7412\n",
            "Epoch 36/140\n",
            "6/6 [==============================] - 0s 11ms/step - loss: 0.3224 - accuracy: 1.0000 - val_loss: 1.4122 - val_accuracy: 0.7412\n",
            "Epoch 37/140\n",
            "6/6 [==============================] - 0s 10ms/step - loss: 0.3184 - accuracy: 1.0000 - val_loss: 1.3978 - val_accuracy: 0.7412\n",
            "Epoch 38/140\n",
            "6/6 [==============================] - 0s 10ms/step - loss: 0.3143 - accuracy: 1.0000 - val_loss: 1.3971 - val_accuracy: 0.7412\n",
            "Epoch 39/140\n",
            "6/6 [==============================] - 0s 12ms/step - loss: 0.3104 - accuracy: 1.0000 - val_loss: 1.4023 - val_accuracy: 0.7412\n",
            "Epoch 40/140\n",
            "6/6 [==============================] - 0s 10ms/step - loss: 0.3063 - accuracy: 1.0000 - val_loss: 1.3668 - val_accuracy: 0.7412\n",
            "Epoch 41/140\n",
            "6/6 [==============================] - 0s 11ms/step - loss: 0.3026 - accuracy: 1.0000 - val_loss: 1.4006 - val_accuracy: 0.7412\n",
            "Epoch 42/140\n",
            "6/6 [==============================] - 0s 10ms/step - loss: 0.2988 - accuracy: 1.0000 - val_loss: 1.3732 - val_accuracy: 0.7412\n",
            "Epoch 43/140\n",
            "6/6 [==============================] - 0s 10ms/step - loss: 0.2953 - accuracy: 1.0000 - val_loss: 1.3867 - val_accuracy: 0.7294\n",
            "Epoch 44/140\n",
            "6/6 [==============================] - 0s 11ms/step - loss: 0.2914 - accuracy: 1.0000 - val_loss: 1.3701 - val_accuracy: 0.7412\n",
            "Epoch 45/140\n",
            "6/6 [==============================] - 0s 11ms/step - loss: 0.2879 - accuracy: 1.0000 - val_loss: 1.3823 - val_accuracy: 0.7412\n",
            "Epoch 46/140\n",
            "6/6 [==============================] - 0s 10ms/step - loss: 0.2843 - accuracy: 1.0000 - val_loss: 1.3665 - val_accuracy: 0.7412\n",
            "Epoch 47/140\n",
            "6/6 [==============================] - 0s 10ms/step - loss: 0.2808 - accuracy: 1.0000 - val_loss: 1.3628 - val_accuracy: 0.7412\n",
            "Epoch 48/140\n",
            "6/6 [==============================] - 0s 11ms/step - loss: 0.2775 - accuracy: 1.0000 - val_loss: 1.3673 - val_accuracy: 0.7412\n",
            "Epoch 49/140\n",
            "6/6 [==============================] - 0s 11ms/step - loss: 0.2741 - accuracy: 1.0000 - val_loss: 1.3867 - val_accuracy: 0.7412\n",
            "Epoch 50/140\n",
            "6/6 [==============================] - 0s 10ms/step - loss: 0.2708 - accuracy: 1.0000 - val_loss: 1.3451 - val_accuracy: 0.7412\n",
            "Epoch 51/140\n",
            "6/6 [==============================] - 0s 10ms/step - loss: 0.2678 - accuracy: 1.0000 - val_loss: 1.3824 - val_accuracy: 0.7412\n",
            "Epoch 52/140\n",
            "6/6 [==============================] - 0s 12ms/step - loss: 0.2645 - accuracy: 1.0000 - val_loss: 1.3600 - val_accuracy: 0.7412\n",
            "Epoch 53/140\n",
            "6/6 [==============================] - 0s 10ms/step - loss: 0.2613 - accuracy: 1.0000 - val_loss: 1.3721 - val_accuracy: 0.7294\n",
            "Epoch 54/140\n",
            "6/6 [==============================] - 0s 15ms/step - loss: 0.2582 - accuracy: 1.0000 - val_loss: 1.3748 - val_accuracy: 0.7412\n",
            "Epoch 55/140\n",
            "6/6 [==============================] - 0s 11ms/step - loss: 0.2550 - accuracy: 1.0000 - val_loss: 1.3732 - val_accuracy: 0.7412\n",
            "Epoch 56/140\n",
            "6/6 [==============================] - 0s 10ms/step - loss: 0.2519 - accuracy: 1.0000 - val_loss: 1.3657 - val_accuracy: 0.7294\n",
            "Epoch 57/140\n",
            "6/6 [==============================] - 0s 11ms/step - loss: 0.2488 - accuracy: 1.0000 - val_loss: 1.3824 - val_accuracy: 0.7412\n",
            "Epoch 58/140\n",
            "6/6 [==============================] - 0s 10ms/step - loss: 0.2460 - accuracy: 1.0000 - val_loss: 1.3366 - val_accuracy: 0.7412\n",
            "Epoch 59/140\n",
            "6/6 [==============================] - 0s 10ms/step - loss: 0.2432 - accuracy: 1.0000 - val_loss: 1.3814 - val_accuracy: 0.7412\n",
            "Epoch 60/140\n",
            "6/6 [==============================] - 0s 13ms/step - loss: 0.2403 - accuracy: 1.0000 - val_loss: 1.3352 - val_accuracy: 0.7412\n",
            "Epoch 61/140\n",
            "6/6 [==============================] - 0s 12ms/step - loss: 0.2372 - accuracy: 1.0000 - val_loss: 1.3978 - val_accuracy: 0.7412\n",
            "Epoch 62/140\n",
            "6/6 [==============================] - 0s 10ms/step - loss: 0.2346 - accuracy: 1.0000 - val_loss: 1.3069 - val_accuracy: 0.7529\n",
            "Epoch 63/140\n",
            "6/6 [==============================] - 0s 11ms/step - loss: 0.2321 - accuracy: 1.0000 - val_loss: 1.4000 - val_accuracy: 0.7294\n",
            "Epoch 64/140\n",
            "6/6 [==============================] - 0s 13ms/step - loss: 0.2292 - accuracy: 1.0000 - val_loss: 1.3061 - val_accuracy: 0.7412\n",
            "Epoch 65/140\n",
            "6/6 [==============================] - 0s 10ms/step - loss: 0.2266 - accuracy: 1.0000 - val_loss: 1.3628 - val_accuracy: 0.7294\n",
            "Epoch 66/140\n",
            "6/6 [==============================] - 0s 11ms/step - loss: 0.2240 - accuracy: 1.0000 - val_loss: 1.3271 - val_accuracy: 0.7412\n",
            "Epoch 67/140\n",
            "6/6 [==============================] - 0s 10ms/step - loss: 0.2215 - accuracy: 1.0000 - val_loss: 1.3433 - val_accuracy: 0.7412\n",
            "Epoch 68/140\n",
            "6/6 [==============================] - 0s 12ms/step - loss: 0.2189 - accuracy: 1.0000 - val_loss: 1.3682 - val_accuracy: 0.7412\n",
            "Epoch 69/140\n",
            "6/6 [==============================] - 0s 10ms/step - loss: 0.2163 - accuracy: 1.0000 - val_loss: 1.3156 - val_accuracy: 0.7529\n",
            "Epoch 70/140\n",
            "6/6 [==============================] - 0s 11ms/step - loss: 0.2135 - accuracy: 1.0000 - val_loss: 1.3576 - val_accuracy: 0.7412\n",
            "Epoch 71/140\n",
            "6/6 [==============================] - 0s 12ms/step - loss: 0.2115 - accuracy: 1.0000 - val_loss: 1.3383 - val_accuracy: 0.7412\n",
            "Epoch 72/140\n",
            "6/6 [==============================] - 0s 15ms/step - loss: 0.2088 - accuracy: 1.0000 - val_loss: 1.3110 - val_accuracy: 0.7412\n",
            "Epoch 73/140\n",
            "6/6 [==============================] - 0s 10ms/step - loss: 0.2063 - accuracy: 1.0000 - val_loss: 1.3273 - val_accuracy: 0.7412\n",
            "Epoch 74/140\n",
            "6/6 [==============================] - 0s 11ms/step - loss: 0.2038 - accuracy: 1.0000 - val_loss: 1.3218 - val_accuracy: 0.7412\n",
            "Epoch 75/140\n",
            "6/6 [==============================] - 0s 11ms/step - loss: 0.2017 - accuracy: 1.0000 - val_loss: 1.3084 - val_accuracy: 0.7412\n",
            "Epoch 76/140\n",
            "6/6 [==============================] - 0s 11ms/step - loss: 0.1998 - accuracy: 1.0000 - val_loss: 1.3670 - val_accuracy: 0.7412\n",
            "Epoch 77/140\n",
            "6/6 [==============================] - 0s 15ms/step - loss: 0.1976 - accuracy: 1.0000 - val_loss: 1.2775 - val_accuracy: 0.7412\n",
            "Epoch 78/140\n",
            "6/6 [==============================] - 0s 11ms/step - loss: 0.1953 - accuracy: 1.0000 - val_loss: 1.3817 - val_accuracy: 0.7294\n",
            "Epoch 79/140\n",
            "6/6 [==============================] - 0s 11ms/step - loss: 0.1930 - accuracy: 1.0000 - val_loss: 1.2322 - val_accuracy: 0.7647\n",
            "Epoch 80/140\n",
            "6/6 [==============================] - 0s 12ms/step - loss: 0.1908 - accuracy: 1.0000 - val_loss: 1.4213 - val_accuracy: 0.7176\n",
            "Epoch 81/140\n",
            "6/6 [==============================] - 0s 11ms/step - loss: 0.1887 - accuracy: 1.0000 - val_loss: 1.2223 - val_accuracy: 0.7647\n",
            "Epoch 82/140\n",
            "6/6 [==============================] - 0s 12ms/step - loss: 0.1867 - accuracy: 1.0000 - val_loss: 1.4058 - val_accuracy: 0.7176\n",
            "Epoch 83/140\n",
            "6/6 [==============================] - 0s 10ms/step - loss: 0.1855 - accuracy: 1.0000 - val_loss: 1.2351 - val_accuracy: 0.7529\n",
            "Epoch 84/140\n",
            "6/6 [==============================] - 0s 10ms/step - loss: 0.1831 - accuracy: 1.0000 - val_loss: 1.4119 - val_accuracy: 0.7176\n",
            "Epoch 85/140\n",
            "6/6 [==============================] - 0s 10ms/step - loss: 0.1810 - accuracy: 1.0000 - val_loss: 1.2560 - val_accuracy: 0.7529\n",
            "Epoch 86/140\n",
            "6/6 [==============================] - 0s 10ms/step - loss: 0.1789 - accuracy: 1.0000 - val_loss: 1.2357 - val_accuracy: 0.7529\n",
            "Epoch 87/140\n",
            "6/6 [==============================] - 0s 11ms/step - loss: 0.1790 - accuracy: 1.0000 - val_loss: 1.5402 - val_accuracy: 0.7294\n",
            "Epoch 88/140\n",
            "6/6 [==============================] - 0s 11ms/step - loss: 0.1757 - accuracy: 1.0000 - val_loss: 1.1832 - val_accuracy: 0.7765\n",
            "Epoch 89/140\n",
            "6/6 [==============================] - 0s 10ms/step - loss: 0.1739 - accuracy: 1.0000 - val_loss: 1.4642 - val_accuracy: 0.7294\n",
            "Epoch 90/140\n",
            "6/6 [==============================] - 0s 11ms/step - loss: 0.1714 - accuracy: 1.0000 - val_loss: 1.2706 - val_accuracy: 0.7529\n",
            "Epoch 91/140\n",
            "6/6 [==============================] - 0s 10ms/step - loss: 0.1692 - accuracy: 1.0000 - val_loss: 1.3471 - val_accuracy: 0.7412\n",
            "Epoch 92/140\n",
            "6/6 [==============================] - 0s 10ms/step - loss: 0.1673 - accuracy: 1.0000 - val_loss: 1.3102 - val_accuracy: 0.7529\n",
            "Epoch 93/140\n",
            "6/6 [==============================] - 0s 10ms/step - loss: 0.1654 - accuracy: 1.0000 - val_loss: 1.3257 - val_accuracy: 0.7412\n",
            "Epoch 94/140\n",
            "6/6 [==============================] - 0s 10ms/step - loss: 0.1635 - accuracy: 1.0000 - val_loss: 1.2947 - val_accuracy: 0.7412\n",
            "Epoch 95/140\n",
            "6/6 [==============================] - 0s 11ms/step - loss: 0.1618 - accuracy: 1.0000 - val_loss: 1.2942 - val_accuracy: 0.7294\n",
            "Epoch 96/140\n",
            "6/6 [==============================] - 0s 11ms/step - loss: 0.1602 - accuracy: 1.0000 - val_loss: 1.2870 - val_accuracy: 0.7412\n",
            "Epoch 97/140\n",
            "6/6 [==============================] - 0s 12ms/step - loss: 0.1583 - accuracy: 1.0000 - val_loss: 1.3218 - val_accuracy: 0.7529\n",
            "Epoch 98/140\n",
            "6/6 [==============================] - 0s 10ms/step - loss: 0.1565 - accuracy: 1.0000 - val_loss: 1.3133 - val_accuracy: 0.7412\n",
            "Epoch 99/140\n",
            "6/6 [==============================] - 0s 10ms/step - loss: 0.1548 - accuracy: 1.0000 - val_loss: 1.2680 - val_accuracy: 0.7412\n",
            "Epoch 100/140\n",
            "6/6 [==============================] - 0s 11ms/step - loss: 0.1533 - accuracy: 1.0000 - val_loss: 1.4155 - val_accuracy: 0.7294\n",
            "Epoch 101/140\n",
            "6/6 [==============================] - 0s 11ms/step - loss: 0.1528 - accuracy: 1.0000 - val_loss: 1.1749 - val_accuracy: 0.7647\n",
            "Epoch 102/140\n",
            "6/6 [==============================] - 0s 18ms/step - loss: 0.1508 - accuracy: 1.0000 - val_loss: 1.2683 - val_accuracy: 0.7412\n",
            "Epoch 103/140\n",
            "6/6 [==============================] - 0s 13ms/step - loss: 0.1493 - accuracy: 1.0000 - val_loss: 1.3754 - val_accuracy: 0.7294\n",
            "Epoch 104/140\n",
            "6/6 [==============================] - 0s 10ms/step - loss: 0.1475 - accuracy: 1.0000 - val_loss: 1.1670 - val_accuracy: 0.7529\n",
            "Epoch 105/140\n",
            "6/6 [==============================] - 0s 10ms/step - loss: 0.1460 - accuracy: 1.0000 - val_loss: 1.3046 - val_accuracy: 0.7529\n",
            "Epoch 106/140\n",
            "6/6 [==============================] - 0s 11ms/step - loss: 0.1445 - accuracy: 1.0000 - val_loss: 1.2840 - val_accuracy: 0.7176\n",
            "Epoch 107/140\n",
            "6/6 [==============================] - 0s 11ms/step - loss: 0.1448 - accuracy: 1.0000 - val_loss: 1.2842 - val_accuracy: 0.7647\n",
            "Epoch 108/140\n",
            "6/6 [==============================] - 0s 12ms/step - loss: 0.1427 - accuracy: 1.0000 - val_loss: 1.2697 - val_accuracy: 0.7176\n",
            "Epoch 109/140\n",
            "6/6 [==============================] - 0s 11ms/step - loss: 0.1442 - accuracy: 1.0000 - val_loss: 1.2117 - val_accuracy: 0.7765\n",
            "Epoch 110/140\n",
            "6/6 [==============================] - 0s 10ms/step - loss: 0.1416 - accuracy: 1.0000 - val_loss: 1.3134 - val_accuracy: 0.7529\n",
            "Epoch 111/140\n",
            "6/6 [==============================] - 0s 12ms/step - loss: 0.1406 - accuracy: 1.0000 - val_loss: 1.4058 - val_accuracy: 0.7176\n",
            "Epoch 112/140\n",
            "6/6 [==============================] - 0s 11ms/step - loss: 0.1374 - accuracy: 1.0000 - val_loss: 1.2675 - val_accuracy: 0.7529\n",
            "Epoch 113/140\n",
            "6/6 [==============================] - 0s 10ms/step - loss: 0.1357 - accuracy: 1.0000 - val_loss: 1.2055 - val_accuracy: 0.7412\n",
            "Epoch 114/140\n",
            "6/6 [==============================] - 0s 11ms/step - loss: 0.1339 - accuracy: 1.0000 - val_loss: 1.3912 - val_accuracy: 0.7294\n",
            "Epoch 115/140\n",
            "6/6 [==============================] - 0s 11ms/step - loss: 0.1321 - accuracy: 1.0000 - val_loss: 1.2249 - val_accuracy: 0.7412\n",
            "Epoch 116/140\n",
            "6/6 [==============================] - 0s 10ms/step - loss: 0.1307 - accuracy: 1.0000 - val_loss: 1.3361 - val_accuracy: 0.7294\n",
            "Epoch 117/140\n",
            "6/6 [==============================] - 0s 10ms/step - loss: 0.1295 - accuracy: 1.0000 - val_loss: 1.2922 - val_accuracy: 0.7529\n",
            "Epoch 118/140\n",
            "6/6 [==============================] - 0s 10ms/step - loss: 0.1278 - accuracy: 1.0000 - val_loss: 1.2621 - val_accuracy: 0.7412\n",
            "Epoch 119/140\n",
            "6/6 [==============================] - 0s 11ms/step - loss: 0.1265 - accuracy: 1.0000 - val_loss: 1.2525 - val_accuracy: 0.7412\n",
            "Epoch 120/140\n",
            "6/6 [==============================] - 0s 10ms/step - loss: 0.1252 - accuracy: 1.0000 - val_loss: 1.2916 - val_accuracy: 0.7529\n",
            "Epoch 121/140\n",
            "6/6 [==============================] - 0s 13ms/step - loss: 0.1238 - accuracy: 1.0000 - val_loss: 1.2432 - val_accuracy: 0.7529\n",
            "Epoch 122/140\n",
            "6/6 [==============================] - 0s 10ms/step - loss: 0.1226 - accuracy: 1.0000 - val_loss: 1.2107 - val_accuracy: 0.7529\n",
            "Epoch 123/140\n",
            "6/6 [==============================] - 0s 14ms/step - loss: 0.1215 - accuracy: 1.0000 - val_loss: 1.2537 - val_accuracy: 0.7647\n",
            "Epoch 124/140\n",
            "6/6 [==============================] - 0s 11ms/step - loss: 0.1203 - accuracy: 1.0000 - val_loss: 1.2966 - val_accuracy: 0.7412\n",
            "Epoch 125/140\n",
            "6/6 [==============================] - 0s 13ms/step - loss: 0.1192 - accuracy: 1.0000 - val_loss: 1.2298 - val_accuracy: 0.7529\n",
            "Epoch 126/140\n",
            "6/6 [==============================] - 0s 10ms/step - loss: 0.1178 - accuracy: 1.0000 - val_loss: 1.2280 - val_accuracy: 0.7529\n",
            "Epoch 127/140\n",
            "6/6 [==============================] - 0s 10ms/step - loss: 0.1167 - accuracy: 1.0000 - val_loss: 1.2435 - val_accuracy: 0.7647\n",
            "Epoch 128/140\n",
            "6/6 [==============================] - 0s 10ms/step - loss: 0.1156 - accuracy: 1.0000 - val_loss: 1.1988 - val_accuracy: 0.7412\n",
            "Epoch 129/140\n",
            "6/6 [==============================] - 0s 10ms/step - loss: 0.1147 - accuracy: 1.0000 - val_loss: 1.2381 - val_accuracy: 0.7529\n",
            "Epoch 130/140\n",
            "6/6 [==============================] - 0s 11ms/step - loss: 0.1137 - accuracy: 1.0000 - val_loss: 1.2651 - val_accuracy: 0.7176\n",
            "Epoch 131/140\n",
            "6/6 [==============================] - 0s 11ms/step - loss: 0.1136 - accuracy: 1.0000 - val_loss: 1.2933 - val_accuracy: 0.7647\n",
            "Epoch 132/140\n",
            "6/6 [==============================] - 0s 10ms/step - loss: 0.1117 - accuracy: 1.0000 - val_loss: 1.2001 - val_accuracy: 0.7412\n",
            "Epoch 133/140\n",
            "6/6 [==============================] - 0s 10ms/step - loss: 0.1108 - accuracy: 1.0000 - val_loss: 1.1684 - val_accuracy: 0.7765\n",
            "Epoch 134/140\n",
            "6/6 [==============================] - 0s 11ms/step - loss: 0.1105 - accuracy: 1.0000 - val_loss: 1.3099 - val_accuracy: 0.7412\n",
            "Epoch 135/140\n",
            "6/6 [==============================] - 0s 12ms/step - loss: 0.1095 - accuracy: 1.0000 - val_loss: 1.3438 - val_accuracy: 0.7294\n",
            "Epoch 136/140\n",
            "6/6 [==============================] - 0s 11ms/step - loss: 0.1083 - accuracy: 1.0000 - val_loss: 1.1665 - val_accuracy: 0.7647\n",
            "Epoch 137/140\n",
            "6/6 [==============================] - 0s 10ms/step - loss: 0.1076 - accuracy: 1.0000 - val_loss: 1.2346 - val_accuracy: 0.7529\n",
            "Epoch 138/140\n",
            "6/6 [==============================] - 0s 11ms/step - loss: 0.1065 - accuracy: 1.0000 - val_loss: 1.1346 - val_accuracy: 0.7529\n",
            "Epoch 139/140\n",
            "6/6 [==============================] - 0s 14ms/step - loss: 0.1050 - accuracy: 1.0000 - val_loss: 1.2657 - val_accuracy: 0.7412\n",
            "Epoch 140/140\n",
            "6/6 [==============================] - 0s 11ms/step - loss: 0.1041 - accuracy: 1.0000 - val_loss: 1.3573 - val_accuracy: 0.7294\n"
          ]
        }
      ]
    },
    {
      "cell_type": "markdown",
      "source": [
        "# Evaluation"
      ],
      "metadata": {
        "id": "1dG-CjfGkRYn"
      }
    },
    {
      "cell_type": "code",
      "source": [
        "y_train.shape"
      ],
      "metadata": {
        "colab": {
          "base_uri": "https://localhost:8080/"
        },
        "id": "rMCq-2GAmT-s",
        "outputId": "b565c7b9-905a-4578-b5ea-9ba82ddfefd1"
      },
      "execution_count": 20,
      "outputs": [
        {
          "output_type": "execute_result",
          "data": {
            "text/plain": [
              "(339, 4)"
            ]
          },
          "metadata": {},
          "execution_count": 20
        }
      ]
    },
    {
      "cell_type": "code",
      "source": [
        "if MODEL == \"RNN\":\n",
        "  y_test=y_test.values\n",
        "  y_test=np.argmax(y_test, axis=1)\n",
        "  y_pred = np.argmax(model.predict(X_test), axis=-1)\n",
        "  from sklearn.metrics import classification_report\n",
        "  print(classification_report(y_test, y_pred, zero_division=0, target_names=df_new.columns[1:]))\n",
        "\n",
        "if MODEL == \"SVC\":\n",
        "  #y_test=y_test.values\n",
        "  #y_test=np.argmax(y_test, axis=1)\n",
        "  y_pred = model.predict(X_test)\n",
        "  from sklearn.metrics import classification_report\n",
        "  print(classification_report(y_test, y_pred, zero_division=0, target_names=df_new.columns[1:]))\n",
        "\n",
        "if MODEL ==\"BERT\":\n",
        "\n",
        "  y_test= y_test.values\n",
        "  y_test=np.argmax(y_test, axis=1)\n",
        "  y_pred = np.argmax(model.predict(X_test), axis=-1)\n",
        "  from sklearn.metrics import classification_report\n",
        "  print(classification_report(y_test, y_pred, zero_division=0, target_names=df_new.columns[1:]))"
      ],
      "metadata": {
        "id": "lPzIov6SZVzY",
        "colab": {
          "base_uri": "https://localhost:8080/"
        },
        "outputId": "e50fcc5d-ed1e-4ae8-c0ca-b25a463fdabf"
      },
      "execution_count": 21,
      "outputs": [
        {
          "output_type": "stream",
          "name": "stdout",
          "text": [
            "              precision    recall  f1-score   support\n",
            "\n",
            "        Itpr       0.55      0.60      0.57        10\n",
            "        Prec       0.89      0.92      0.90        51\n",
            "       Princ       0.67      0.57      0.62         7\n",
            "        Rule       0.80      0.57      0.67         7\n",
            "\n",
            "    accuracy                           0.81        75\n",
            "   macro avg       0.72      0.67      0.69        75\n",
            "weighted avg       0.81      0.81      0.81        75\n",
            "\n"
          ]
        }
      ]
    },
    {
      "cell_type": "code",
      "source": [
        "y_pred"
      ],
      "metadata": {
        "colab": {
          "base_uri": "https://localhost:8080/"
        },
        "id": "o5AmJXXDFukb",
        "outputId": "851e4393-eb53-4358-a41d-0eaa3c49632d"
      },
      "execution_count": 22,
      "outputs": [
        {
          "output_type": "execute_result",
          "data": {
            "text/plain": [
              "array([1, 1, 1, 1, 1, 1, 1, 1, 0, 2, 2, 0, 2, 3, 1, 1, 1, 1, 1, 0, 2, 1,\n",
              "       0, 1, 3, 1, 1, 1, 1, 1, 0, 1, 1, 1, 0, 1, 3, 1, 1, 0, 1, 1, 1, 1,\n",
              "       1, 1, 1, 1, 1, 1, 1, 1, 3, 1, 1, 1, 1, 3, 0, 2, 0, 1, 1, 1, 1, 0,\n",
              "       1, 1, 2, 1, 1, 0, 1, 1, 1])"
            ]
          },
          "metadata": {},
          "execution_count": 22
        }
      ]
    },
    {
      "cell_type": "markdown",
      "source": [
        "Saving of test parameters and results on file:"
      ],
      "metadata": {
        "id": "HWX_2zAOltC9"
      }
    },
    {
      "cell_type": "code",
      "source": [
        "with open(\"argumentation_type_classification_results.txt\", \"a\") as f:\n",
        "    f.write(\"MODEL: \" + MODEL + \"\\n\")\n",
        "    f.write(\"EMBEDDING: \" + EMBEDDING  + \"\\n\")\n",
        "    f.write(\"\\n\")\n",
        "\n",
        "    f.write(\"DATASET:\\n\")\n",
        "    f.write(str(DATASET[\"Argumentation_scheme\"].value_counts()))\n",
        "    f.write(\"\\n\\n\")\n",
        "    f.write(\"NUMBER OF SAMPLES: \" + str(len(X)) + \"\\n\")\n",
        "    f.write(\"TEST_SIZE: \" + str(TEST_SIZE*100) + \"%\\n\")\n",
        "    f.write(\"\\n\")\n",
        "\n",
        "    f.write(\"PARAMETERS:\\n\")\n",
        "\n",
        "    if MODEL == \"RNN\":\n",
        "      f.write(\"EPOCHS: \" + str(EPOCHS) + \"\\n\")\n",
        "      f.write(\"BATCH_SIZE: \" + str(BATCH_SIZE) + \"\\n\")\n",
        "      f.write(\"LAYERS: \" + str(LAYERS) + \"\\n\")\n",
        "      f.write(\"LR: \" + str(LR) + \"\\n\")\n",
        "      f.write(\"L2_FACTOR: \" + str(L2_FACTOR) + \"\\n\")\n",
        "      f.write(\"DROP: \" + str(DROP) + \"\\n\")\n",
        "      f.write(\"\\n\")\n",
        "\n",
        "    if MODEL == \"BERT\":\n",
        "      f.write(\"EPOCHS: \" + str(EPOCHS) + \"\\n\")\n",
        "      f.write(\"BATCH_SIZE: \" + str(BATCH_SIZE) + \"\\n\")\n",
        "      f.write(\"LR: \" + str(LR) + \"\\n\")\n",
        "      f.write(\"DROP: \" + str(DROP) + \"\\n\")\n",
        "      f.write(\"\\n\")\n",
        "\n",
        "    if MODEL == \"SVC\":\n",
        "      f.write(\"KERNEL: \" + str(KERNEL) + \"\\n\")\n",
        "      f.write(\"GAMMA: \" + str(GAMMA) + \"\\n\")\n",
        "      f.write(\"C: \" + str(C) + \"\\n\")\n",
        "      f.write(\"DEGREE: \" + str(DEGREE) + \"\\n\")\n",
        "      f.write(\"\\n\")\n",
        "\n",
        "    f.write(\"RESULTS:\\n\")\n",
        "    f.write(classification_report(y_test, y_pred, zero_division=0, target_names=df_new.columns[1:])+\"\\n\")\n",
        "\n",
        "    f.write(\"\\n\")\n",
        "    f.write(\"#######################################################\")\n",
        "    f.write(\"\\n\\n\")\n",
        "    \n",
        "\n"
      ],
      "metadata": {
        "id": "N5DRUGoUluIc"
      },
      "execution_count": 23,
      "outputs": []
    }
  ]
}